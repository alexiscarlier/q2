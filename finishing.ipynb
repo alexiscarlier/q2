{
 "cells": [
  {
   "cell_type": "code",
   "execution_count": 1,
   "metadata": {},
   "outputs": [
    {
     "name": "stdout",
     "output_type": "stream",
     "text": [
      "\n",
      "The downloaded binary packages are in\n",
      "\t/var/folders/42/_9ggpw4n053b2nv3lwxvlq7m0000gn/T//Rtmp4cWAjT/downloaded_packages\n",
      "\n",
      "The downloaded binary packages are in\n",
      "\t/var/folders/42/_9ggpw4n053b2nv3lwxvlq7m0000gn/T//Rtmp4cWAjT/downloaded_packages\n",
      "\n",
      "The downloaded binary packages are in\n",
      "\t/var/folders/42/_9ggpw4n053b2nv3lwxvlq7m0000gn/T//Rtmp4cWAjT/downloaded_packages\n",
      "\n",
      "The downloaded binary packages are in\n",
      "\t/var/folders/42/_9ggpw4n053b2nv3lwxvlq7m0000gn/T//Rtmp4cWAjT/downloaded_packages\n"
     ]
    }
   ],
   "source": [
    "\n",
    "install.packages(\"dplyr\")\n",
    "install.packages(\"ggplot2\")\n",
    "install.packages(\"readxl\")\n",
    "install.packages(\"tidyverse\")\n"
   ]
  },
  {
   "cell_type": "code",
   "execution_count": 2,
   "metadata": {},
   "outputs": [
    {
     "name": "stderr",
     "output_type": "stream",
     "text": [
      "\n",
      "Attaching package: ‘dplyr’\n",
      "\n",
      "The following objects are masked from ‘package:stats’:\n",
      "\n",
      "    filter, lag\n",
      "\n",
      "The following objects are masked from ‘package:base’:\n",
      "\n",
      "    intersect, setdiff, setequal, union\n",
      "\n",
      "── Attaching packages ─────────────────────────────────────── tidyverse 1.2.1 ──\n",
      "✔ tibble  1.4.2     ✔ purrr   0.2.5\n",
      "✔ tidyr   0.8.1     ✔ stringr 1.3.1\n",
      "✔ readr   1.1.1     ✔ forcats 0.3.0\n",
      "── Conflicts ────────────────────────────────────────── tidyverse_conflicts() ──\n",
      "✖ dplyr::filter() masks stats::filter()\n",
      "✖ dplyr::lag()    masks stats::lag()\n"
     ]
    },
    {
     "data": {
      "text/html": [
       "<ol class=list-inline>\n",
       "\t<li>1460</li>\n",
       "\t<li>81</li>\n",
       "</ol>\n"
      ],
      "text/latex": [
       "\\begin{enumerate*}\n",
       "\\item 1460\n",
       "\\item 81\n",
       "\\end{enumerate*}\n"
      ],
      "text/markdown": [
       "1. 1460\n",
       "2. 81\n",
       "\n",
       "\n"
      ],
      "text/plain": [
       "[1] 1460   81"
      ]
     },
     "metadata": {},
     "output_type": "display_data"
    },
    {
     "name": "stdout",
     "output_type": "stream",
     "text": [
      "'data.frame':\t1460 obs. of  81 variables:\n",
      " $ Id           : int  1 2 3 4 5 6 7 8 9 10 ...\n",
      " $ MSSubClass   : int  60 20 60 70 60 50 20 60 50 190 ...\n",
      " $ MSZoning     : Factor w/ 5 levels \"C (all)\",\"FV\",..: 4 4 4 4 4 4 4 4 5 4 ...\n",
      " $ LotFrontage  : int  65 80 68 60 84 85 75 NA 51 50 ...\n",
      " $ LotArea      : int  8450 9600 11250 9550 14260 14115 10084 10382 6120 7420 ...\n",
      " $ Street       : Factor w/ 2 levels \"Grvl\",\"Pave\": 2 2 2 2 2 2 2 2 2 2 ...\n",
      " $ Alley        : Factor w/ 2 levels \"Grvl\",\"Pave\": NA NA NA NA NA NA NA NA NA NA ...\n",
      " $ LotShape     : Factor w/ 4 levels \"IR1\",\"IR2\",\"IR3\",..: 4 4 1 1 1 1 4 1 4 4 ...\n",
      " $ LandContour  : Factor w/ 4 levels \"Bnk\",\"HLS\",\"Low\",..: 4 4 4 4 4 4 4 4 4 4 ...\n",
      " $ Utilities    : Factor w/ 2 levels \"AllPub\",\"NoSeWa\": 1 1 1 1 1 1 1 1 1 1 ...\n",
      " $ LotConfig    : Factor w/ 5 levels \"Corner\",\"CulDSac\",..: 5 3 5 1 3 5 5 1 5 1 ...\n",
      " $ LandSlope    : Factor w/ 3 levels \"Gtl\",\"Mod\",\"Sev\": 1 1 1 1 1 1 1 1 1 1 ...\n",
      " $ Neighborhood : Factor w/ 25 levels \"Blmngtn\",\"Blueste\",..: 6 25 6 7 14 12 21 17 18 4 ...\n",
      " $ Condition1   : Factor w/ 9 levels \"Artery\",\"Feedr\",..: 3 2 3 3 3 3 3 5 1 1 ...\n",
      " $ Condition2   : Factor w/ 8 levels \"Artery\",\"Feedr\",..: 3 3 3 3 3 3 3 3 3 1 ...\n",
      " $ BldgType     : Factor w/ 5 levels \"1Fam\",\"2fmCon\",..: 1 1 1 1 1 1 1 1 1 2 ...\n",
      " $ HouseStyle   : Factor w/ 8 levels \"1.5Fin\",\"1.5Unf\",..: 6 3 6 6 6 1 3 6 1 2 ...\n",
      " $ OverallQual  : int  7 6 7 7 8 5 8 7 7 5 ...\n",
      " $ OverallCond  : int  5 8 5 5 5 5 5 6 5 6 ...\n",
      " $ YearBuilt    : int  2003 1976 2001 1915 2000 1993 2004 1973 1931 1939 ...\n",
      " $ YearRemodAdd : int  2003 1976 2002 1970 2000 1995 2005 1973 1950 1950 ...\n",
      " $ RoofStyle    : Factor w/ 6 levels \"Flat\",\"Gable\",..: 2 2 2 2 2 2 2 2 2 2 ...\n",
      " $ RoofMatl     : Factor w/ 8 levels \"ClyTile\",\"CompShg\",..: 2 2 2 2 2 2 2 2 2 2 ...\n",
      " $ Exterior1st  : Factor w/ 15 levels \"AsbShng\",\"AsphShn\",..: 13 9 13 14 13 13 13 7 4 9 ...\n",
      " $ Exterior2nd  : Factor w/ 16 levels \"AsbShng\",\"AsphShn\",..: 14 9 14 16 14 14 14 7 16 9 ...\n",
      " $ MasVnrType   : Factor w/ 4 levels \"BrkCmn\",\"BrkFace\",..: 2 3 2 3 2 3 4 4 3 3 ...\n",
      " $ MasVnrArea   : int  196 0 162 0 350 0 186 240 0 0 ...\n",
      " $ ExterQual    : Factor w/ 4 levels \"Ex\",\"Fa\",\"Gd\",..: 3 4 3 4 3 4 3 4 4 4 ...\n",
      " $ ExterCond    : Factor w/ 5 levels \"Ex\",\"Fa\",\"Gd\",..: 5 5 5 5 5 5 5 5 5 5 ...\n",
      " $ Foundation   : Factor w/ 6 levels \"BrkTil\",\"CBlock\",..: 3 2 3 1 3 6 3 2 1 1 ...\n",
      " $ BsmtQual     : Factor w/ 4 levels \"Ex\",\"Fa\",\"Gd\",..: 3 3 3 4 3 3 1 3 4 4 ...\n",
      " $ BsmtCond     : Factor w/ 4 levels \"Fa\",\"Gd\",\"Po\",..: 4 4 4 2 4 4 4 4 4 4 ...\n",
      " $ BsmtExposure : Factor w/ 4 levels \"Av\",\"Gd\",\"Mn\",..: 4 2 3 4 1 4 1 3 4 4 ...\n",
      " $ BsmtFinType1 : Factor w/ 6 levels \"ALQ\",\"BLQ\",\"GLQ\",..: 3 1 3 1 3 3 3 1 6 3 ...\n",
      " $ BsmtFinSF1   : int  706 978 486 216 655 732 1369 859 0 851 ...\n",
      " $ BsmtFinType2 : Factor w/ 6 levels \"ALQ\",\"BLQ\",\"GLQ\",..: 6 6 6 6 6 6 6 2 6 6 ...\n",
      " $ BsmtFinSF2   : int  0 0 0 0 0 0 0 32 0 0 ...\n",
      " $ BsmtUnfSF    : int  150 284 434 540 490 64 317 216 952 140 ...\n",
      " $ TotalBsmtSF  : int  856 1262 920 756 1145 796 1686 1107 952 991 ...\n",
      " $ Heating      : Factor w/ 6 levels \"Floor\",\"GasA\",..: 2 2 2 2 2 2 2 2 2 2 ...\n",
      " $ HeatingQC    : Factor w/ 5 levels \"Ex\",\"Fa\",\"Gd\",..: 1 1 1 3 1 1 1 1 3 1 ...\n",
      " $ CentralAir   : Factor w/ 2 levels \"N\",\"Y\": 2 2 2 2 2 2 2 2 2 2 ...\n",
      " $ Electrical   : Factor w/ 5 levels \"FuseA\",\"FuseF\",..: 5 5 5 5 5 5 5 5 2 5 ...\n",
      " $ X1stFlrSF    : int  856 1262 920 961 1145 796 1694 1107 1022 1077 ...\n",
      " $ X2ndFlrSF    : int  854 0 866 756 1053 566 0 983 752 0 ...\n",
      " $ LowQualFinSF : int  0 0 0 0 0 0 0 0 0 0 ...\n",
      " $ GrLivArea    : int  1710 1262 1786 1717 2198 1362 1694 2090 1774 1077 ...\n",
      " $ BsmtFullBath : int  1 0 1 1 1 1 1 1 0 1 ...\n",
      " $ BsmtHalfBath : int  0 1 0 0 0 0 0 0 0 0 ...\n",
      " $ FullBath     : int  2 2 2 1 2 1 2 2 2 1 ...\n",
      " $ HalfBath     : int  1 0 1 0 1 1 0 1 0 0 ...\n",
      " $ BedroomAbvGr : int  3 3 3 3 4 1 3 3 2 2 ...\n",
      " $ KitchenAbvGr : int  1 1 1 1 1 1 1 1 2 2 ...\n",
      " $ KitchenQual  : Factor w/ 4 levels \"Ex\",\"Fa\",\"Gd\",..: 3 4 3 3 3 4 3 4 4 4 ...\n",
      " $ TotRmsAbvGrd : int  8 6 6 7 9 5 7 7 8 5 ...\n",
      " $ Functional   : Factor w/ 7 levels \"Maj1\",\"Maj2\",..: 7 7 7 7 7 7 7 7 3 7 ...\n",
      " $ Fireplaces   : int  0 1 1 1 1 0 1 2 2 2 ...\n",
      " $ FireplaceQu  : Factor w/ 5 levels \"Ex\",\"Fa\",\"Gd\",..: NA 5 5 3 5 NA 3 5 5 5 ...\n",
      " $ GarageType   : Factor w/ 6 levels \"2Types\",\"Attchd\",..: 2 2 2 6 2 2 2 2 6 2 ...\n",
      " $ GarageYrBlt  : int  2003 1976 2001 1998 2000 1993 2004 1973 1931 1939 ...\n",
      " $ GarageFinish : Factor w/ 3 levels \"Fin\",\"RFn\",\"Unf\": 2 2 2 3 2 3 2 2 3 2 ...\n",
      " $ GarageCars   : int  2 2 2 3 3 2 2 2 2 1 ...\n",
      " $ GarageArea   : int  548 460 608 642 836 480 636 484 468 205 ...\n",
      " $ GarageQual   : Factor w/ 5 levels \"Ex\",\"Fa\",\"Gd\",..: 5 5 5 5 5 5 5 5 2 3 ...\n",
      " $ GarageCond   : Factor w/ 5 levels \"Ex\",\"Fa\",\"Gd\",..: 5 5 5 5 5 5 5 5 5 5 ...\n",
      " $ PavedDrive   : Factor w/ 3 levels \"N\",\"P\",\"Y\": 3 3 3 3 3 3 3 3 3 3 ...\n",
      " $ WoodDeckSF   : int  0 298 0 0 192 40 255 235 90 0 ...\n",
      " $ OpenPorchSF  : int  61 0 42 35 84 30 57 204 0 4 ...\n",
      " $ EnclosedPorch: int  0 0 0 272 0 0 0 228 205 0 ...\n",
      " $ X3SsnPorch   : int  0 0 0 0 0 320 0 0 0 0 ...\n",
      " $ ScreenPorch  : int  0 0 0 0 0 0 0 0 0 0 ...\n",
      " $ PoolArea     : int  0 0 0 0 0 0 0 0 0 0 ...\n",
      " $ PoolQC       : Factor w/ 3 levels \"Ex\",\"Fa\",\"Gd\": NA NA NA NA NA NA NA NA NA NA ...\n",
      " $ Fence        : Factor w/ 4 levels \"GdPrv\",\"GdWo\",..: NA NA NA NA NA 3 NA NA NA NA ...\n",
      " $ MiscFeature  : Factor w/ 4 levels \"Gar2\",\"Othr\",..: NA NA NA NA NA 3 NA 3 NA NA ...\n",
      " $ MiscVal      : int  0 0 0 0 0 700 0 350 0 0 ...\n",
      " $ MoSold       : int  2 5 9 2 12 10 8 11 4 1 ...\n",
      " $ YrSold       : int  2008 2007 2008 2006 2008 2009 2007 2009 2008 2008 ...\n",
      " $ SaleType     : Factor w/ 9 levels \"COD\",\"Con\",\"ConLD\",..: 9 9 9 9 9 9 9 9 9 9 ...\n",
      " $ SaleCondition: Factor w/ 6 levels \"Abnorml\",\"AdjLand\",..: 5 5 5 1 5 5 5 5 1 5 ...\n",
      " $ SalePrice    : int  208500 181500 223500 140000 250000 143000 307000 200000 129900 118000 ...\n"
     ]
    },
    {
     "data": {
      "text/html": [
       "'integer'"
      ],
      "text/latex": [
       "'integer'"
      ],
      "text/markdown": [
       "'integer'"
      ],
      "text/plain": [
       "[1] \"integer\""
      ]
     },
     "metadata": {},
     "output_type": "display_data"
    },
    {
     "data": {
      "text/html": [
       "'integer'"
      ],
      "text/latex": [
       "'integer'"
      ],
      "text/markdown": [
       "'integer'"
      ],
      "text/plain": [
       "[1] \"integer\""
      ]
     },
     "metadata": {},
     "output_type": "display_data"
    },
    {
     "data": {
      "text/html": [
       "TRUE"
      ],
      "text/latex": [
       "TRUE"
      ],
      "text/markdown": [
       "TRUE"
      ],
      "text/plain": [
       "[1] TRUE"
      ]
     },
     "metadata": {},
     "output_type": "display_data"
    },
    {
     "data": {
      "text/html": [
       "'integer'"
      ],
      "text/latex": [
       "'integer'"
      ],
      "text/markdown": [
       "'integer'"
      ],
      "text/plain": [
       "[1] \"integer\""
      ]
     },
     "metadata": {},
     "output_type": "display_data"
    },
    {
     "data": {
      "text/html": [
       "TRUE"
      ],
      "text/latex": [
       "TRUE"
      ],
      "text/markdown": [
       "TRUE"
      ],
      "text/plain": [
       "[1] TRUE"
      ]
     },
     "metadata": {},
     "output_type": "display_data"
    },
    {
     "data": {
      "text/plain": [
       "       Id           MSSubClass       MSZoning     LotFrontage    \n",
       " Min.   :   1.0   Min.   : 20.0   C (all):  10   Min.   : 21.00  \n",
       " 1st Qu.: 365.8   1st Qu.: 20.0   FV     :  65   1st Qu.: 59.00  \n",
       " Median : 730.5   Median : 50.0   RH     :  16   Median : 69.00  \n",
       " Mean   : 730.5   Mean   : 56.9   RL     :1151   Mean   : 70.05  \n",
       " 3rd Qu.:1095.2   3rd Qu.: 70.0   RM     : 218   3rd Qu.: 80.00  \n",
       " Max.   :1460.0   Max.   :190.0                  Max.   :313.00  \n",
       "                                                 NA's   :259     \n",
       "    LotArea        Street      Alley      LotShape  LandContour  Utilities   \n",
       " Min.   :  1300   Grvl:   6   Grvl:  50   IR1:484   Bnk:  63    AllPub:1459  \n",
       " 1st Qu.:  7554   Pave:1454   Pave:  41   IR2: 41   HLS:  50    NoSeWa:   1  \n",
       " Median :  9478               NA's:1369   IR3: 10   Low:  36                 \n",
       " Mean   : 10517                           Reg:925   Lvl:1311                 \n",
       " 3rd Qu.: 11602                                                              \n",
       " Max.   :215245                                                              \n",
       "                                                                             \n",
       "   LotConfig    LandSlope   Neighborhood   Condition1     Condition2  \n",
       " Corner : 263   Gtl:1382   NAmes  :225   Norm   :1260   Norm   :1445  \n",
       " CulDSac:  94   Mod:  65   CollgCr:150   Feedr  :  81   Feedr  :   6  \n",
       " FR2    :  47   Sev:  13   OldTown:113   Artery :  48   Artery :   2  \n",
       " FR3    :   4              Edwards:100   RRAn   :  26   PosN   :   2  \n",
       " Inside :1052              Somerst: 86   PosN   :  19   RRNn   :   2  \n",
       "                           Gilbert: 79   RRAe   :  11   PosA   :   1  \n",
       "                           (Other):707   (Other):  15   (Other):   2  \n",
       "   BldgType      HouseStyle   OverallQual      OverallCond      YearBuilt   \n",
       " 1Fam  :1220   1Story :726   Min.   : 1.000   Min.   :1.000   Min.   :1872  \n",
       " 2fmCon:  31   2Story :445   1st Qu.: 5.000   1st Qu.:5.000   1st Qu.:1954  \n",
       " Duplex:  52   1.5Fin :154   Median : 6.000   Median :5.000   Median :1973  \n",
       " Twnhs :  43   SLvl   : 65   Mean   : 6.099   Mean   :5.575   Mean   :1971  \n",
       " TwnhsE: 114   SFoyer : 37   3rd Qu.: 7.000   3rd Qu.:6.000   3rd Qu.:2000  \n",
       "               1.5Unf : 14   Max.   :10.000   Max.   :9.000   Max.   :2010  \n",
       "               (Other): 19                                                  \n",
       "  YearRemodAdd    RoofStyle       RoofMatl     Exterior1st   Exterior2nd \n",
       " Min.   :1950   Flat   :  13   CompShg:1434   VinylSd:515   VinylSd:504  \n",
       " 1st Qu.:1967   Gable  :1141   Tar&Grv:  11   HdBoard:222   MetalSd:214  \n",
       " Median :1994   Gambrel:  11   WdShngl:   6   MetalSd:220   HdBoard:207  \n",
       " Mean   :1985   Hip    : 286   WdShake:   5   Wd Sdng:206   Wd Sdng:197  \n",
       " 3rd Qu.:2004   Mansard:   7   ClyTile:   1   Plywood:108   Plywood:142  \n",
       " Max.   :2010   Shed   :   2   Membran:   1   CemntBd: 61   CmentBd: 60  \n",
       "                               (Other):   2   (Other):128   (Other):136  \n",
       "   MasVnrType    MasVnrArea     ExterQual ExterCond  Foundation  BsmtQual  \n",
       " BrkCmn : 15   Min.   :   0.0   Ex: 52    Ex:   3   BrkTil:146   Ex  :121  \n",
       " BrkFace:445   1st Qu.:   0.0   Fa: 14    Fa:  28   CBlock:634   Fa  : 35  \n",
       " None   :864   Median :   0.0   Gd:488    Gd: 146   PConc :647   Gd  :618  \n",
       " Stone  :128   Mean   : 103.7   TA:906    Po:   1   Slab  : 24   TA  :649  \n",
       " NA's   :  8   3rd Qu.: 166.0             TA:1282   Stone :  6   NA's: 37  \n",
       "               Max.   :1600.0                       Wood  :  3             \n",
       "               NA's   :8                                                   \n",
       " BsmtCond    BsmtExposure BsmtFinType1   BsmtFinSF1     BsmtFinType2\n",
       " Fa  :  45   Av  :221     ALQ :220     Min.   :   0.0   ALQ :  19   \n",
       " Gd  :  65   Gd  :134     BLQ :148     1st Qu.:   0.0   BLQ :  33   \n",
       " Po  :   2   Mn  :114     GLQ :418     Median : 383.5   GLQ :  14   \n",
       " TA  :1311   No  :953     LwQ : 74     Mean   : 443.6   LwQ :  46   \n",
       " NA's:  37   NA's: 38     Rec :133     3rd Qu.: 712.2   Rec :  54   \n",
       "                          Unf :430     Max.   :5644.0   Unf :1256   \n",
       "                          NA's: 37                      NA's:  38   \n",
       "   BsmtFinSF2        BsmtUnfSF       TotalBsmtSF      Heating     HeatingQC\n",
       " Min.   :   0.00   Min.   :   0.0   Min.   :   0.0   Floor:   1   Ex:741   \n",
       " 1st Qu.:   0.00   1st Qu.: 223.0   1st Qu.: 795.8   GasA :1428   Fa: 49   \n",
       " Median :   0.00   Median : 477.5   Median : 991.5   GasW :  18   Gd:241   \n",
       " Mean   :  46.55   Mean   : 567.2   Mean   :1057.4   Grav :   7   Po:  1   \n",
       " 3rd Qu.:   0.00   3rd Qu.: 808.0   3rd Qu.:1298.2   OthW :   2   TA:428   \n",
       " Max.   :1474.00   Max.   :2336.0   Max.   :6110.0   Wall :   4            \n",
       "                                                                           \n",
       " CentralAir Electrical     X1stFlrSF      X2ndFlrSF     LowQualFinSF    \n",
       " N:  95     FuseA:  94   Min.   : 334   Min.   :   0   Min.   :  0.000  \n",
       " Y:1365     FuseF:  27   1st Qu.: 882   1st Qu.:   0   1st Qu.:  0.000  \n",
       "            FuseP:   3   Median :1087   Median :   0   Median :  0.000  \n",
       "            Mix  :   1   Mean   :1163   Mean   : 347   Mean   :  5.845  \n",
       "            SBrkr:1334   3rd Qu.:1391   3rd Qu.: 728   3rd Qu.:  0.000  \n",
       "            NA's :   1   Max.   :4692   Max.   :2065   Max.   :572.000  \n",
       "                                                                        \n",
       "   GrLivArea     BsmtFullBath     BsmtHalfBath        FullBath    \n",
       " Min.   : 334   Min.   :0.0000   Min.   :0.00000   Min.   :0.000  \n",
       " 1st Qu.:1130   1st Qu.:0.0000   1st Qu.:0.00000   1st Qu.:1.000  \n",
       " Median :1464   Median :0.0000   Median :0.00000   Median :2.000  \n",
       " Mean   :1515   Mean   :0.4253   Mean   :0.05753   Mean   :1.565  \n",
       " 3rd Qu.:1777   3rd Qu.:1.0000   3rd Qu.:0.00000   3rd Qu.:2.000  \n",
       " Max.   :5642   Max.   :3.0000   Max.   :2.00000   Max.   :3.000  \n",
       "                                                                  \n",
       "    HalfBath       BedroomAbvGr    KitchenAbvGr   KitchenQual  TotRmsAbvGrd   \n",
       " Min.   :0.0000   Min.   :0.000   Min.   :0.000   Ex:100      Min.   : 2.000  \n",
       " 1st Qu.:0.0000   1st Qu.:2.000   1st Qu.:1.000   Fa: 39      1st Qu.: 5.000  \n",
       " Median :0.0000   Median :3.000   Median :1.000   Gd:586      Median : 6.000  \n",
       " Mean   :0.3829   Mean   :2.866   Mean   :1.047   TA:735      Mean   : 6.518  \n",
       " 3rd Qu.:1.0000   3rd Qu.:3.000   3rd Qu.:1.000               3rd Qu.: 7.000  \n",
       " Max.   :2.0000   Max.   :8.000   Max.   :3.000               Max.   :14.000  \n",
       "                                                                              \n",
       " Functional    Fireplaces    FireplaceQu   GarageType   GarageYrBlt  \n",
       " Maj1:  14   Min.   :0.000   Ex  : 24    2Types :  6   Min.   :1900  \n",
       " Maj2:   5   1st Qu.:0.000   Fa  : 33    Attchd :870   1st Qu.:1961  \n",
       " Min1:  31   Median :1.000   Gd  :380    Basment: 19   Median :1980  \n",
       " Min2:  34   Mean   :0.613   Po  : 20    BuiltIn: 88   Mean   :1979  \n",
       " Mod :  15   3rd Qu.:1.000   TA  :313    CarPort:  9   3rd Qu.:2002  \n",
       " Sev :   1   Max.   :3.000   NA's:690    Detchd :387   Max.   :2010  \n",
       " Typ :1360                               NA's   : 81   NA's   :81    \n",
       " GarageFinish   GarageCars      GarageArea     GarageQual  GarageCond \n",
       " Fin :352     Min.   :0.000   Min.   :   0.0   Ex  :   3   Ex  :   2  \n",
       " RFn :422     1st Qu.:1.000   1st Qu.: 334.5   Fa  :  48   Fa  :  35  \n",
       " Unf :605     Median :2.000   Median : 480.0   Gd  :  14   Gd  :   9  \n",
       " NA's: 81     Mean   :1.767   Mean   : 473.0   Po  :   3   Po  :   7  \n",
       "              3rd Qu.:2.000   3rd Qu.: 576.0   TA  :1311   TA  :1326  \n",
       "              Max.   :4.000   Max.   :1418.0   NA's:  81   NA's:  81  \n",
       "                                                                      \n",
       " PavedDrive   WoodDeckSF      OpenPorchSF     EnclosedPorch      X3SsnPorch    \n",
       " N:  90     Min.   :  0.00   Min.   :  0.00   Min.   :  0.00   Min.   :  0.00  \n",
       " P:  30     1st Qu.:  0.00   1st Qu.:  0.00   1st Qu.:  0.00   1st Qu.:  0.00  \n",
       " Y:1340     Median :  0.00   Median : 25.00   Median :  0.00   Median :  0.00  \n",
       "            Mean   : 94.24   Mean   : 46.66   Mean   : 21.95   Mean   :  3.41  \n",
       "            3rd Qu.:168.00   3rd Qu.: 68.00   3rd Qu.:  0.00   3rd Qu.:  0.00  \n",
       "            Max.   :857.00   Max.   :547.00   Max.   :552.00   Max.   :508.00  \n",
       "                                                                               \n",
       "  ScreenPorch        PoolArea        PoolQC       Fence      MiscFeature\n",
       " Min.   :  0.00   Min.   :  0.000   Ex  :   2   GdPrv:  59   Gar2:   2  \n",
       " 1st Qu.:  0.00   1st Qu.:  0.000   Fa  :   2   GdWo :  54   Othr:   2  \n",
       " Median :  0.00   Median :  0.000   Gd  :   3   MnPrv: 157   Shed:  49  \n",
       " Mean   : 15.06   Mean   :  2.759   NA's:1453   MnWw :  11   TenC:   1  \n",
       " 3rd Qu.:  0.00   3rd Qu.:  0.000               NA's :1179   NA's:1406  \n",
       " Max.   :480.00   Max.   :738.000                                       \n",
       "                                                                        \n",
       "    MiscVal             MoSold           YrSold        SaleType   \n",
       " Min.   :    0.00   Min.   : 1.000   Min.   :2006   WD     :1267  \n",
       " 1st Qu.:    0.00   1st Qu.: 5.000   1st Qu.:2007   New    : 122  \n",
       " Median :    0.00   Median : 6.000   Median :2008   COD    :  43  \n",
       " Mean   :   43.49   Mean   : 6.322   Mean   :2008   ConLD  :   9  \n",
       " 3rd Qu.:    0.00   3rd Qu.: 8.000   3rd Qu.:2009   ConLI  :   5  \n",
       " Max.   :15500.00   Max.   :12.000   Max.   :2010   ConLw  :   5  \n",
       "                                                    (Other):   9  \n",
       " SaleCondition    SalePrice     \n",
       " Abnorml: 101   Min.   : 34900  \n",
       " AdjLand:   4   1st Qu.:129975  \n",
       " Alloca :  12   Median :163000  \n",
       " Family :  20   Mean   :180921  \n",
       " Normal :1198   3rd Qu.:214000  \n",
       " Partial: 125   Max.   :755000  \n",
       "                                "
      ]
     },
     "metadata": {},
     "output_type": "display_data"
    },
    {
     "data": {
      "text/plain": [
       "       Id           MSSubClass     LotFrontage        LotArea      \n",
       " Min.   :   1.0   Min.   : 20.0   Min.   : 21.00   Min.   :  1300  \n",
       " 1st Qu.: 365.8   1st Qu.: 20.0   1st Qu.: 59.00   1st Qu.:  7554  \n",
       " Median : 730.5   Median : 50.0   Median : 69.00   Median :  9478  \n",
       " Mean   : 730.5   Mean   : 56.9   Mean   : 70.05   Mean   : 10517  \n",
       " 3rd Qu.:1095.2   3rd Qu.: 70.0   3rd Qu.: 80.00   3rd Qu.: 11602  \n",
       " Max.   :1460.0   Max.   :190.0   Max.   :313.00   Max.   :215245  \n",
       "                                  NA's   :259                      \n",
       "  OverallQual      OverallCond      YearBuilt     YearRemodAdd \n",
       " Min.   : 1.000   Min.   :1.000   Min.   :1872   Min.   :1950  \n",
       " 1st Qu.: 5.000   1st Qu.:5.000   1st Qu.:1954   1st Qu.:1967  \n",
       " Median : 6.000   Median :5.000   Median :1973   Median :1994  \n",
       " Mean   : 6.099   Mean   :5.575   Mean   :1971   Mean   :1985  \n",
       " 3rd Qu.: 7.000   3rd Qu.:6.000   3rd Qu.:2000   3rd Qu.:2004  \n",
       " Max.   :10.000   Max.   :9.000   Max.   :2010   Max.   :2010  \n",
       "                                                               \n",
       "   MasVnrArea       BsmtFinSF1       BsmtFinSF2        BsmtUnfSF     \n",
       " Min.   :   0.0   Min.   :   0.0   Min.   :   0.00   Min.   :   0.0  \n",
       " 1st Qu.:   0.0   1st Qu.:   0.0   1st Qu.:   0.00   1st Qu.: 223.0  \n",
       " Median :   0.0   Median : 383.5   Median :   0.00   Median : 477.5  \n",
       " Mean   : 103.7   Mean   : 443.6   Mean   :  46.55   Mean   : 567.2  \n",
       " 3rd Qu.: 166.0   3rd Qu.: 712.2   3rd Qu.:   0.00   3rd Qu.: 808.0  \n",
       " Max.   :1600.0   Max.   :5644.0   Max.   :1474.00   Max.   :2336.0  \n",
       " NA's   :8                                                           \n",
       "  TotalBsmtSF       X1stFlrSF      X2ndFlrSF     LowQualFinSF    \n",
       " Min.   :   0.0   Min.   : 334   Min.   :   0   Min.   :  0.000  \n",
       " 1st Qu.: 795.8   1st Qu.: 882   1st Qu.:   0   1st Qu.:  0.000  \n",
       " Median : 991.5   Median :1087   Median :   0   Median :  0.000  \n",
       " Mean   :1057.4   Mean   :1163   Mean   : 347   Mean   :  5.845  \n",
       " 3rd Qu.:1298.2   3rd Qu.:1391   3rd Qu.: 728   3rd Qu.:  0.000  \n",
       " Max.   :6110.0   Max.   :4692   Max.   :2065   Max.   :572.000  \n",
       "                                                                 \n",
       "   GrLivArea     BsmtFullBath     BsmtHalfBath        FullBath    \n",
       " Min.   : 334   Min.   :0.0000   Min.   :0.00000   Min.   :0.000  \n",
       " 1st Qu.:1130   1st Qu.:0.0000   1st Qu.:0.00000   1st Qu.:1.000  \n",
       " Median :1464   Median :0.0000   Median :0.00000   Median :2.000  \n",
       " Mean   :1515   Mean   :0.4253   Mean   :0.05753   Mean   :1.565  \n",
       " 3rd Qu.:1777   3rd Qu.:1.0000   3rd Qu.:0.00000   3rd Qu.:2.000  \n",
       " Max.   :5642   Max.   :3.0000   Max.   :2.00000   Max.   :3.000  \n",
       "                                                                  \n",
       "    HalfBath       BedroomAbvGr    KitchenAbvGr    TotRmsAbvGrd   \n",
       " Min.   :0.0000   Min.   :0.000   Min.   :0.000   Min.   : 2.000  \n",
       " 1st Qu.:0.0000   1st Qu.:2.000   1st Qu.:1.000   1st Qu.: 5.000  \n",
       " Median :0.0000   Median :3.000   Median :1.000   Median : 6.000  \n",
       " Mean   :0.3829   Mean   :2.866   Mean   :1.047   Mean   : 6.518  \n",
       " 3rd Qu.:1.0000   3rd Qu.:3.000   3rd Qu.:1.000   3rd Qu.: 7.000  \n",
       " Max.   :2.0000   Max.   :8.000   Max.   :3.000   Max.   :14.000  \n",
       "                                                                  \n",
       "   Fireplaces     GarageYrBlt     GarageCars      GarageArea    \n",
       " Min.   :0.000   Min.   :1900   Min.   :0.000   Min.   :   0.0  \n",
       " 1st Qu.:0.000   1st Qu.:1961   1st Qu.:1.000   1st Qu.: 334.5  \n",
       " Median :1.000   Median :1980   Median :2.000   Median : 480.0  \n",
       " Mean   :0.613   Mean   :1979   Mean   :1.767   Mean   : 473.0  \n",
       " 3rd Qu.:1.000   3rd Qu.:2002   3rd Qu.:2.000   3rd Qu.: 576.0  \n",
       " Max.   :3.000   Max.   :2010   Max.   :4.000   Max.   :1418.0  \n",
       "                 NA's   :81                                     \n",
       "   WoodDeckSF      OpenPorchSF     EnclosedPorch      X3SsnPorch    \n",
       " Min.   :  0.00   Min.   :  0.00   Min.   :  0.00   Min.   :  0.00  \n",
       " 1st Qu.:  0.00   1st Qu.:  0.00   1st Qu.:  0.00   1st Qu.:  0.00  \n",
       " Median :  0.00   Median : 25.00   Median :  0.00   Median :  0.00  \n",
       " Mean   : 94.24   Mean   : 46.66   Mean   : 21.95   Mean   :  3.41  \n",
       " 3rd Qu.:168.00   3rd Qu.: 68.00   3rd Qu.:  0.00   3rd Qu.:  0.00  \n",
       " Max.   :857.00   Max.   :547.00   Max.   :552.00   Max.   :508.00  \n",
       "                                                                    \n",
       "  ScreenPorch        PoolArea          MiscVal             MoSold      \n",
       " Min.   :  0.00   Min.   :  0.000   Min.   :    0.00   Min.   : 1.000  \n",
       " 1st Qu.:  0.00   1st Qu.:  0.000   1st Qu.:    0.00   1st Qu.: 5.000  \n",
       " Median :  0.00   Median :  0.000   Median :    0.00   Median : 6.000  \n",
       " Mean   : 15.06   Mean   :  2.759   Mean   :   43.49   Mean   : 6.322  \n",
       " 3rd Qu.:  0.00   3rd Qu.:  0.000   3rd Qu.:    0.00   3rd Qu.: 8.000  \n",
       " Max.   :480.00   Max.   :738.000   Max.   :15500.00   Max.   :12.000  \n",
       "                                                                       \n",
       "     YrSold       SalePrice     \n",
       " Min.   :2006   Min.   : 34900  \n",
       " 1st Qu.:2007   1st Qu.:129975  \n",
       " Median :2008   Median :163000  \n",
       " Mean   :2008   Mean   :180921  \n",
       " 3rd Qu.:2009   3rd Qu.:214000  \n",
       " Max.   :2010   Max.   :755000  \n",
       "                                "
      ]
     },
     "metadata": {},
     "output_type": "display_data"
    },
    {
     "name": "stderr",
     "output_type": "stream",
     "text": [
      "`stat_bin()` using `bins = 30`. Pick better value with `binwidth`.\n"
     ]
    },
    {
     "data": {},
     "metadata": {},
     "output_type": "display_data"
    },
    {
     "name": "stderr",
     "output_type": "stream",
     "text": [
      "`stat_bin()` using `bins = 30`. Pick better value with `binwidth`.\n"
     ]
    },
    {
     "data": {},
     "metadata": {},
     "output_type": "display_data"
    },
    {
     "data": {
      "image/png": "[encoded data removed]",
      "text/plain": [
       "plot without title"
      ]
     },
     "metadata": {},
     "output_type": "display_data"
    },
    {
     "name": "stderr",
     "output_type": "stream",
     "text": [
      "`stat_bin()` using `bins = 30`. Pick better value with `binwidth`.\n"
     ]
    },
    {
     "data": {},
     "metadata": {},
     "output_type": "display_data"
    },
    {
     "data": {
      "image/png": "[encoded data removed]",
      "text/plain": [
       "plot without title"
      ]
     },
     "metadata": {},
     "output_type": "display_data"
    },
    {
     "data": {
      "text/plain": [
       "       Id           MSSubClass       MSZoning     LotFrontage    \n",
       " Min.   :   1.0   Min.   : 20.0   C (all):  10   Min.   : 21.00  \n",
       " 1st Qu.: 365.8   1st Qu.: 20.0   FV     :  65   1st Qu.: 59.00  \n",
       " Median : 730.5   Median : 50.0   RH     :  16   Median : 69.00  \n",
       " Mean   : 730.5   Mean   : 56.9   RL     :1151   Mean   : 70.05  \n",
       " 3rd Qu.:1095.2   3rd Qu.: 70.0   RM     : 218   3rd Qu.: 80.00  \n",
       " Max.   :1460.0   Max.   :190.0                  Max.   :313.00  \n",
       "                                                 NA's   :259     \n",
       "    LotArea        Street      Alley      LotShape  LandContour  Utilities   \n",
       " Min.   :  1300   Grvl:   6   Grvl:  50   IR1:484   Bnk:  63    AllPub:1459  \n",
       " 1st Qu.:  7554   Pave:1454   Pave:  41   IR2: 41   HLS:  50    NoSeWa:   1  \n",
       " Median :  9478               NA's:1369   IR3: 10   Low:  36                 \n",
       " Mean   : 10517                           Reg:925   Lvl:1311                 \n",
       " 3rd Qu.: 11602                                                              \n",
       " Max.   :215245                                                              \n",
       "                                                                             \n",
       "   LotConfig    LandSlope   Neighborhood   Condition1     Condition2  \n",
       " Corner : 263   Gtl:1382   NAmes  :225   Norm   :1260   Norm   :1445  \n",
       " CulDSac:  94   Mod:  65   CollgCr:150   Feedr  :  81   Feedr  :   6  \n",
       " FR2    :  47   Sev:  13   OldTown:113   Artery :  48   Artery :   2  \n",
       " FR3    :   4              Edwards:100   RRAn   :  26   PosN   :   2  \n",
       " Inside :1052              Somerst: 86   PosN   :  19   RRNn   :   2  \n",
       "                           Gilbert: 79   RRAe   :  11   PosA   :   1  \n",
       "                           (Other):707   (Other):  15   (Other):   2  \n",
       "   BldgType      HouseStyle   OverallQual      OverallCond      YearBuilt   \n",
       " 1Fam  :1220   1Story :726   Min.   : 1.000   Min.   :1.000   Min.   :1872  \n",
       " 2fmCon:  31   2Story :445   1st Qu.: 5.000   1st Qu.:5.000   1st Qu.:1954  \n",
       " Duplex:  52   1.5Fin :154   Median : 6.000   Median :5.000   Median :1973  \n",
       " Twnhs :  43   SLvl   : 65   Mean   : 6.099   Mean   :5.575   Mean   :1971  \n",
       " TwnhsE: 114   SFoyer : 37   3rd Qu.: 7.000   3rd Qu.:6.000   3rd Qu.:2000  \n",
       "               1.5Unf : 14   Max.   :10.000   Max.   :9.000   Max.   :2010  \n",
       "               (Other): 19                                                  \n",
       "  YearRemodAdd    RoofStyle       RoofMatl     Exterior1st   Exterior2nd \n",
       " Min.   :1950   Flat   :  13   CompShg:1434   VinylSd:515   VinylSd:504  \n",
       " 1st Qu.:1967   Gable  :1141   Tar&Grv:  11   HdBoard:222   MetalSd:214  \n",
       " Median :1994   Gambrel:  11   WdShngl:   6   MetalSd:220   HdBoard:207  \n",
       " Mean   :1985   Hip    : 286   WdShake:   5   Wd Sdng:206   Wd Sdng:197  \n",
       " 3rd Qu.:2004   Mansard:   7   ClyTile:   1   Plywood:108   Plywood:142  \n",
       " Max.   :2010   Shed   :   2   Membran:   1   CemntBd: 61   CmentBd: 60  \n",
       "                               (Other):   2   (Other):128   (Other):136  \n",
       "   MasVnrType    MasVnrArea     ExterQual ExterCond  Foundation  BsmtQual  \n",
       " BrkCmn : 15   Min.   :   0.0   Ex: 52    Ex:   3   BrkTil:146   Ex  :121  \n",
       " BrkFace:445   1st Qu.:   0.0   Fa: 14    Fa:  28   CBlock:634   Fa  : 35  \n",
       " None   :864   Median :   0.0   Gd:488    Gd: 146   PConc :647   Gd  :618  \n",
       " Stone  :128   Mean   : 103.7   TA:906    Po:   1   Slab  : 24   TA  :649  \n",
       " NA's   :  8   3rd Qu.: 166.0             TA:1282   Stone :  6   NA's: 37  \n",
       "               Max.   :1600.0                       Wood  :  3             \n",
       "               NA's   :8                                                   \n",
       " BsmtCond    BsmtExposure BsmtFinType1   BsmtFinSF1     BsmtFinType2\n",
       " Fa  :  45   Av  :221     ALQ :220     Min.   :   0.0   ALQ :  19   \n",
       " Gd  :  65   Gd  :134     BLQ :148     1st Qu.:   0.0   BLQ :  33   \n",
       " Po  :   2   Mn  :114     GLQ :418     Median : 383.5   GLQ :  14   \n",
       " TA  :1311   No  :953     LwQ : 74     Mean   : 443.6   LwQ :  46   \n",
       " NA's:  37   NA's: 38     Rec :133     3rd Qu.: 712.2   Rec :  54   \n",
       "                          Unf :430     Max.   :5644.0   Unf :1256   \n",
       "                          NA's: 37                      NA's:  38   \n",
       "   BsmtFinSF2        BsmtUnfSF       TotalBsmtSF      Heating     HeatingQC\n",
       " Min.   :   0.00   Min.   :   0.0   Min.   :   0.0   Floor:   1   Ex:741   \n",
       " 1st Qu.:   0.00   1st Qu.: 223.0   1st Qu.: 795.8   GasA :1428   Fa: 49   \n",
       " Median :   0.00   Median : 477.5   Median : 991.5   GasW :  18   Gd:241   \n",
       " Mean   :  46.55   Mean   : 567.2   Mean   :1057.4   Grav :   7   Po:  1   \n",
       " 3rd Qu.:   0.00   3rd Qu.: 808.0   3rd Qu.:1298.2   OthW :   2   TA:428   \n",
       " Max.   :1474.00   Max.   :2336.0   Max.   :6110.0   Wall :   4            \n",
       "                                                                           \n",
       " CentralAir Electrical     X1stFlrSF      X2ndFlrSF     LowQualFinSF    \n",
       " N:  95     FuseA:  94   Min.   : 334   Min.   :   0   Min.   :  0.000  \n",
       " Y:1365     FuseF:  27   1st Qu.: 882   1st Qu.:   0   1st Qu.:  0.000  \n",
       "            FuseP:   3   Median :1087   Median :   0   Median :  0.000  \n",
       "            Mix  :   1   Mean   :1163   Mean   : 347   Mean   :  5.845  \n",
       "            SBrkr:1334   3rd Qu.:1391   3rd Qu.: 728   3rd Qu.:  0.000  \n",
       "            NA's :   1   Max.   :4692   Max.   :2065   Max.   :572.000  \n",
       "                                                                        \n",
       "   GrLivArea     BsmtFullBath     BsmtHalfBath        FullBath    \n",
       " Min.   : 334   Min.   :0.0000   Min.   :0.00000   Min.   :0.000  \n",
       " 1st Qu.:1130   1st Qu.:0.0000   1st Qu.:0.00000   1st Qu.:1.000  \n",
       " Median :1464   Median :0.0000   Median :0.00000   Median :2.000  \n",
       " Mean   :1515   Mean   :0.4253   Mean   :0.05753   Mean   :1.565  \n",
       " 3rd Qu.:1777   3rd Qu.:1.0000   3rd Qu.:0.00000   3rd Qu.:2.000  \n",
       " Max.   :5642   Max.   :3.0000   Max.   :2.00000   Max.   :3.000  \n",
       "                                                                  \n",
       "    HalfBath       BedroomAbvGr    KitchenAbvGr   KitchenQual  TotRmsAbvGrd   \n",
       " Min.   :0.0000   Min.   :0.000   Min.   :0.000   Ex:100      Min.   : 2.000  \n",
       " 1st Qu.:0.0000   1st Qu.:2.000   1st Qu.:1.000   Fa: 39      1st Qu.: 5.000  \n",
       " Median :0.0000   Median :3.000   Median :1.000   Gd:586      Median : 6.000  \n",
       " Mean   :0.3829   Mean   :2.866   Mean   :1.047   TA:735      Mean   : 6.518  \n",
       " 3rd Qu.:1.0000   3rd Qu.:3.000   3rd Qu.:1.000               3rd Qu.: 7.000  \n",
       " Max.   :2.0000   Max.   :8.000   Max.   :3.000               Max.   :14.000  \n",
       "                                                                              \n",
       " Functional    Fireplaces    FireplaceQu   GarageType   GarageYrBlt  \n",
       " Maj1:  14   Min.   :0.000   Ex  : 24    2Types :  6   Min.   :1900  \n",
       " Maj2:   5   1st Qu.:0.000   Fa  : 33    Attchd :870   1st Qu.:1961  \n",
       " Min1:  31   Median :1.000   Gd  :380    Basment: 19   Median :1980  \n",
       " Min2:  34   Mean   :0.613   Po  : 20    BuiltIn: 88   Mean   :1979  \n",
       " Mod :  15   3rd Qu.:1.000   TA  :313    CarPort:  9   3rd Qu.:2002  \n",
       " Sev :   1   Max.   :3.000   NA's:690    Detchd :387   Max.   :2010  \n",
       " Typ :1360                               NA's   : 81   NA's   :81    \n",
       " GarageFinish   GarageCars      GarageArea     GarageQual  GarageCond \n",
       " Fin :352     Min.   :0.000   Min.   :   0.0   Ex  :   3   Ex  :   2  \n",
       " RFn :422     1st Qu.:1.000   1st Qu.: 334.5   Fa  :  48   Fa  :  35  \n",
       " Unf :605     Median :2.000   Median : 480.0   Gd  :  14   Gd  :   9  \n",
       " NA's: 81     Mean   :1.767   Mean   : 473.0   Po  :   3   Po  :   7  \n",
       "              3rd Qu.:2.000   3rd Qu.: 576.0   TA  :1311   TA  :1326  \n",
       "              Max.   :4.000   Max.   :1418.0   NA's:  81   NA's:  81  \n",
       "                                                                      \n",
       " PavedDrive   WoodDeckSF      OpenPorchSF     EnclosedPorch      X3SsnPorch    \n",
       " N:  90     Min.   :  0.00   Min.   :  0.00   Min.   :  0.00   Min.   :  0.00  \n",
       " P:  30     1st Qu.:  0.00   1st Qu.:  0.00   1st Qu.:  0.00   1st Qu.:  0.00  \n",
       " Y:1340     Median :  0.00   Median : 25.00   Median :  0.00   Median :  0.00  \n",
       "            Mean   : 94.24   Mean   : 46.66   Mean   : 21.95   Mean   :  3.41  \n",
       "            3rd Qu.:168.00   3rd Qu.: 68.00   3rd Qu.:  0.00   3rd Qu.:  0.00  \n",
       "            Max.   :857.00   Max.   :547.00   Max.   :552.00   Max.   :508.00  \n",
       "                                                                               \n",
       "  ScreenPorch        PoolArea        PoolQC       Fence      MiscFeature\n",
       " Min.   :  0.00   Min.   :  0.000   Ex  :   2   GdPrv:  59   Gar2:   2  \n",
       " 1st Qu.:  0.00   1st Qu.:  0.000   Fa  :   2   GdWo :  54   Othr:   2  \n",
       " Median :  0.00   Median :  0.000   Gd  :   3   MnPrv: 157   Shed:  49  \n",
       " Mean   : 15.06   Mean   :  2.759   NA's:1453   MnWw :  11   TenC:   1  \n",
       " 3rd Qu.:  0.00   3rd Qu.:  0.000               NA's :1179   NA's:1406  \n",
       " Max.   :480.00   Max.   :738.000                                       \n",
       "                                                                        \n",
       "    MiscVal             MoSold           YrSold        SaleType   \n",
       " Min.   :    0.00   Min.   : 1.000   Min.   :2006   WD     :1267  \n",
       " 1st Qu.:    0.00   1st Qu.: 5.000   1st Qu.:2007   New    : 122  \n",
       " Median :    0.00   Median : 6.000   Median :2008   COD    :  43  \n",
       " Mean   :   43.49   Mean   : 6.322   Mean   :2008   ConLD  :   9  \n",
       " 3rd Qu.:    0.00   3rd Qu.: 8.000   3rd Qu.:2009   ConLI  :   5  \n",
       " Max.   :15500.00   Max.   :12.000   Max.   :2010   ConLw  :   5  \n",
       "                                                    (Other):   9  \n",
       " SaleCondition    SalePrice     \n",
       " Abnorml: 101   Min.   : 34900  \n",
       " AdjLand:   4   1st Qu.:129975  \n",
       " Alloca :  12   Median :163000  \n",
       " Family :  20   Mean   :180921  \n",
       " Normal :1198   3rd Qu.:214000  \n",
       " Partial: 125   Max.   :755000  \n",
       "                                "
      ]
     },
     "metadata": {},
     "output_type": "display_data"
    },
    {
     "data": {
      "text/plain": [
       "       Id           MSSubClass     LotFrontage        LotArea      \n",
       " Min.   :   1.0   Min.   : 20.0   Min.   : 21.00   Min.   :  1300  \n",
       " 1st Qu.: 365.8   1st Qu.: 20.0   1st Qu.: 59.00   1st Qu.:  7554  \n",
       " Median : 730.5   Median : 50.0   Median : 69.00   Median :  9478  \n",
       " Mean   : 730.5   Mean   : 56.9   Mean   : 70.05   Mean   : 10517  \n",
       " 3rd Qu.:1095.2   3rd Qu.: 70.0   3rd Qu.: 80.00   3rd Qu.: 11602  \n",
       " Max.   :1460.0   Max.   :190.0   Max.   :313.00   Max.   :215245  \n",
       "                                  NA's   :259                      \n",
       "  OverallQual      OverallCond      YearBuilt     YearRemodAdd \n",
       " Min.   : 1.000   Min.   :1.000   Min.   :1872   Min.   :1950  \n",
       " 1st Qu.: 5.000   1st Qu.:5.000   1st Qu.:1954   1st Qu.:1967  \n",
       " Median : 6.000   Median :5.000   Median :1973   Median :1994  \n",
       " Mean   : 6.099   Mean   :5.575   Mean   :1971   Mean   :1985  \n",
       " 3rd Qu.: 7.000   3rd Qu.:6.000   3rd Qu.:2000   3rd Qu.:2004  \n",
       " Max.   :10.000   Max.   :9.000   Max.   :2010   Max.   :2010  \n",
       "                                                               \n",
       "   MasVnrArea       BsmtFinSF1       BsmtFinSF2        BsmtUnfSF     \n",
       " Min.   :   0.0   Min.   :   0.0   Min.   :   0.00   Min.   :   0.0  \n",
       " 1st Qu.:   0.0   1st Qu.:   0.0   1st Qu.:   0.00   1st Qu.: 223.0  \n",
       " Median :   0.0   Median : 383.5   Median :   0.00   Median : 477.5  \n",
       " Mean   : 103.7   Mean   : 443.6   Mean   :  46.55   Mean   : 567.2  \n",
       " 3rd Qu.: 166.0   3rd Qu.: 712.2   3rd Qu.:   0.00   3rd Qu.: 808.0  \n",
       " Max.   :1600.0   Max.   :5644.0   Max.   :1474.00   Max.   :2336.0  \n",
       " NA's   :8                                                           \n",
       "  TotalBsmtSF       X1stFlrSF      X2ndFlrSF     LowQualFinSF    \n",
       " Min.   :   0.0   Min.   : 334   Min.   :   0   Min.   :  0.000  \n",
       " 1st Qu.: 795.8   1st Qu.: 882   1st Qu.:   0   1st Qu.:  0.000  \n",
       " Median : 991.5   Median :1087   Median :   0   Median :  0.000  \n",
       " Mean   :1057.4   Mean   :1163   Mean   : 347   Mean   :  5.845  \n",
       " 3rd Qu.:1298.2   3rd Qu.:1391   3rd Qu.: 728   3rd Qu.:  0.000  \n",
       " Max.   :6110.0   Max.   :4692   Max.   :2065   Max.   :572.000  \n",
       "                                                                 \n",
       "   GrLivArea     BsmtFullBath     BsmtHalfBath        FullBath    \n",
       " Min.   : 334   Min.   :0.0000   Min.   :0.00000   Min.   :0.000  \n",
       " 1st Qu.:1130   1st Qu.:0.0000   1st Qu.:0.00000   1st Qu.:1.000  \n",
       " Median :1464   Median :0.0000   Median :0.00000   Median :2.000  \n",
       " Mean   :1515   Mean   :0.4253   Mean   :0.05753   Mean   :1.565  \n",
       " 3rd Qu.:1777   3rd Qu.:1.0000   3rd Qu.:0.00000   3rd Qu.:2.000  \n",
       " Max.   :5642   Max.   :3.0000   Max.   :2.00000   Max.   :3.000  \n",
       "                                                                  \n",
       "    HalfBath       BedroomAbvGr    KitchenAbvGr    TotRmsAbvGrd   \n",
       " Min.   :0.0000   Min.   :0.000   Min.   :0.000   Min.   : 2.000  \n",
       " 1st Qu.:0.0000   1st Qu.:2.000   1st Qu.:1.000   1st Qu.: 5.000  \n",
       " Median :0.0000   Median :3.000   Median :1.000   Median : 6.000  \n",
       " Mean   :0.3829   Mean   :2.866   Mean   :1.047   Mean   : 6.518  \n",
       " 3rd Qu.:1.0000   3rd Qu.:3.000   3rd Qu.:1.000   3rd Qu.: 7.000  \n",
       " Max.   :2.0000   Max.   :8.000   Max.   :3.000   Max.   :14.000  \n",
       "                                                                  \n",
       "   Fireplaces     GarageYrBlt     GarageCars      GarageArea    \n",
       " Min.   :0.000   Min.   :1900   Min.   :0.000   Min.   :   0.0  \n",
       " 1st Qu.:0.000   1st Qu.:1961   1st Qu.:1.000   1st Qu.: 334.5  \n",
       " Median :1.000   Median :1980   Median :2.000   Median : 480.0  \n",
       " Mean   :0.613   Mean   :1979   Mean   :1.767   Mean   : 473.0  \n",
       " 3rd Qu.:1.000   3rd Qu.:2002   3rd Qu.:2.000   3rd Qu.: 576.0  \n",
       " Max.   :3.000   Max.   :2010   Max.   :4.000   Max.   :1418.0  \n",
       "                 NA's   :81                                     \n",
       "   WoodDeckSF      OpenPorchSF     EnclosedPorch      X3SsnPorch    \n",
       " Min.   :  0.00   Min.   :  0.00   Min.   :  0.00   Min.   :  0.00  \n",
       " 1st Qu.:  0.00   1st Qu.:  0.00   1st Qu.:  0.00   1st Qu.:  0.00  \n",
       " Median :  0.00   Median : 25.00   Median :  0.00   Median :  0.00  \n",
       " Mean   : 94.24   Mean   : 46.66   Mean   : 21.95   Mean   :  3.41  \n",
       " 3rd Qu.:168.00   3rd Qu.: 68.00   3rd Qu.:  0.00   3rd Qu.:  0.00  \n",
       " Max.   :857.00   Max.   :547.00   Max.   :552.00   Max.   :508.00  \n",
       "                                                                    \n",
       "  ScreenPorch        PoolArea          MiscVal             MoSold      \n",
       " Min.   :  0.00   Min.   :  0.000   Min.   :    0.00   Min.   : 1.000  \n",
       " 1st Qu.:  0.00   1st Qu.:  0.000   1st Qu.:    0.00   1st Qu.: 5.000  \n",
       " Median :  0.00   Median :  0.000   Median :    0.00   Median : 6.000  \n",
       " Mean   : 15.06   Mean   :  2.759   Mean   :   43.49   Mean   : 6.322  \n",
       " 3rd Qu.:  0.00   3rd Qu.:  0.000   3rd Qu.:    0.00   3rd Qu.: 8.000  \n",
       " Max.   :480.00   Max.   :738.000   Max.   :15500.00   Max.   :12.000  \n",
       "                                                                       \n",
       "     YrSold       SalePrice     \n",
       " Min.   :2006   Min.   : 34900  \n",
       " 1st Qu.:2007   1st Qu.:129975  \n",
       " Median :2008   Median :163000  \n",
       " Mean   :2008   Mean   :180921  \n",
       " 3rd Qu.:2009   3rd Qu.:214000  \n",
       " Max.   :2010   Max.   :755000  \n",
       "                                "
      ]
     },
     "metadata": {},
     "output_type": "display_data"
    },
    {
     "data": {
      "text/html": [
       "<dl class=dl-horizontal>\n",
       "\t<dt>Id</dt>\n",
       "\t\t<dd>0</dd>\n",
       "\t<dt>MSSubClass</dt>\n",
       "\t\t<dd>0</dd>\n",
       "\t<dt>LotFrontage</dt>\n",
       "\t\t<dd>259</dd>\n",
       "\t<dt>LotArea</dt>\n",
       "\t\t<dd>0</dd>\n",
       "\t<dt>OverallQual</dt>\n",
       "\t\t<dd>0</dd>\n",
       "\t<dt>OverallCond</dt>\n",
       "\t\t<dd>0</dd>\n",
       "\t<dt>YearBuilt</dt>\n",
       "\t\t<dd>0</dd>\n",
       "\t<dt>YearRemodAdd</dt>\n",
       "\t\t<dd>0</dd>\n",
       "\t<dt>MasVnrArea</dt>\n",
       "\t\t<dd>8</dd>\n",
       "\t<dt>BsmtFinSF1</dt>\n",
       "\t\t<dd>0</dd>\n",
       "\t<dt>BsmtFinSF2</dt>\n",
       "\t\t<dd>0</dd>\n",
       "\t<dt>BsmtUnfSF</dt>\n",
       "\t\t<dd>0</dd>\n",
       "\t<dt>TotalBsmtSF</dt>\n",
       "\t\t<dd>0</dd>\n",
       "\t<dt>X1stFlrSF</dt>\n",
       "\t\t<dd>0</dd>\n",
       "\t<dt>X2ndFlrSF</dt>\n",
       "\t\t<dd>0</dd>\n",
       "\t<dt>LowQualFinSF</dt>\n",
       "\t\t<dd>0</dd>\n",
       "\t<dt>GrLivArea</dt>\n",
       "\t\t<dd>0</dd>\n",
       "\t<dt>BsmtFullBath</dt>\n",
       "\t\t<dd>0</dd>\n",
       "\t<dt>BsmtHalfBath</dt>\n",
       "\t\t<dd>0</dd>\n",
       "\t<dt>FullBath</dt>\n",
       "\t\t<dd>0</dd>\n",
       "\t<dt>HalfBath</dt>\n",
       "\t\t<dd>0</dd>\n",
       "\t<dt>BedroomAbvGr</dt>\n",
       "\t\t<dd>0</dd>\n",
       "\t<dt>KitchenAbvGr</dt>\n",
       "\t\t<dd>0</dd>\n",
       "\t<dt>TotRmsAbvGrd</dt>\n",
       "\t\t<dd>0</dd>\n",
       "\t<dt>Fireplaces</dt>\n",
       "\t\t<dd>0</dd>\n",
       "\t<dt>GarageYrBlt</dt>\n",
       "\t\t<dd>81</dd>\n",
       "\t<dt>GarageCars</dt>\n",
       "\t\t<dd>0</dd>\n",
       "\t<dt>GarageArea</dt>\n",
       "\t\t<dd>0</dd>\n",
       "\t<dt>WoodDeckSF</dt>\n",
       "\t\t<dd>0</dd>\n",
       "\t<dt>OpenPorchSF</dt>\n",
       "\t\t<dd>0</dd>\n",
       "\t<dt>EnclosedPorch</dt>\n",
       "\t\t<dd>0</dd>\n",
       "\t<dt>X3SsnPorch</dt>\n",
       "\t\t<dd>0</dd>\n",
       "\t<dt>ScreenPorch</dt>\n",
       "\t\t<dd>0</dd>\n",
       "\t<dt>PoolArea</dt>\n",
       "\t\t<dd>0</dd>\n",
       "\t<dt>MiscVal</dt>\n",
       "\t\t<dd>0</dd>\n",
       "\t<dt>MoSold</dt>\n",
       "\t\t<dd>0</dd>\n",
       "\t<dt>YrSold</dt>\n",
       "\t\t<dd>0</dd>\n",
       "\t<dt>SalePrice</dt>\n",
       "\t\t<dd>0</dd>\n",
       "</dl>\n"
      ],
      "text/latex": [
       "\\begin{description*}\n",
       "\\item[Id] 0\n",
       "\\item[MSSubClass] 0\n",
       "\\item[LotFrontage] 259\n",
       "\\item[LotArea] 0\n",
       "\\item[OverallQual] 0\n",
       "\\item[OverallCond] 0\n",
       "\\item[YearBuilt] 0\n",
       "\\item[YearRemodAdd] 0\n",
       "\\item[MasVnrArea] 8\n",
       "\\item[BsmtFinSF1] 0\n",
       "\\item[BsmtFinSF2] 0\n",
       "\\item[BsmtUnfSF] 0\n",
       "\\item[TotalBsmtSF] 0\n",
       "\\item[X1stFlrSF] 0\n",
       "\\item[X2ndFlrSF] 0\n",
       "\\item[LowQualFinSF] 0\n",
       "\\item[GrLivArea] 0\n",
       "\\item[BsmtFullBath] 0\n",
       "\\item[BsmtHalfBath] 0\n",
       "\\item[FullBath] 0\n",
       "\\item[HalfBath] 0\n",
       "\\item[BedroomAbvGr] 0\n",
       "\\item[KitchenAbvGr] 0\n",
       "\\item[TotRmsAbvGrd] 0\n",
       "\\item[Fireplaces] 0\n",
       "\\item[GarageYrBlt] 81\n",
       "\\item[GarageCars] 0\n",
       "\\item[GarageArea] 0\n",
       "\\item[WoodDeckSF] 0\n",
       "\\item[OpenPorchSF] 0\n",
       "\\item[EnclosedPorch] 0\n",
       "\\item[X3SsnPorch] 0\n",
       "\\item[ScreenPorch] 0\n",
       "\\item[PoolArea] 0\n",
       "\\item[MiscVal] 0\n",
       "\\item[MoSold] 0\n",
       "\\item[YrSold] 0\n",
       "\\item[SalePrice] 0\n",
       "\\end{description*}\n"
      ],
      "text/markdown": [
       "Id\n",
       ":   0MSSubClass\n",
       ":   0LotFrontage\n",
       ":   259LotArea\n",
       ":   0OverallQual\n",
       ":   0OverallCond\n",
       ":   0YearBuilt\n",
       ":   0YearRemodAdd\n",
       ":   0MasVnrArea\n",
       ":   8BsmtFinSF1\n",
       ":   0BsmtFinSF2\n",
       ":   0BsmtUnfSF\n",
       ":   0TotalBsmtSF\n",
       ":   0X1stFlrSF\n",
       ":   0X2ndFlrSF\n",
       ":   0LowQualFinSF\n",
       ":   0GrLivArea\n",
       ":   0BsmtFullBath\n",
       ":   0BsmtHalfBath\n",
       ":   0FullBath\n",
       ":   0HalfBath\n",
       ":   0BedroomAbvGr\n",
       ":   0KitchenAbvGr\n",
       ":   0TotRmsAbvGrd\n",
       ":   0Fireplaces\n",
       ":   0GarageYrBlt\n",
       ":   81GarageCars\n",
       ":   0GarageArea\n",
       ":   0WoodDeckSF\n",
       ":   0OpenPorchSF\n",
       ":   0EnclosedPorch\n",
       ":   0X3SsnPorch\n",
       ":   0ScreenPorch\n",
       ":   0PoolArea\n",
       ":   0MiscVal\n",
       ":   0MoSold\n",
       ":   0YrSold\n",
       ":   0SalePrice\n",
       ":   0\n",
       "\n"
      ],
      "text/plain": [
       "           Id    MSSubClass   LotFrontage       LotArea   OverallQual \n",
       "            0             0           259             0             0 \n",
       "  OverallCond     YearBuilt  YearRemodAdd    MasVnrArea    BsmtFinSF1 \n",
       "            0             0             0             8             0 \n",
       "   BsmtFinSF2     BsmtUnfSF   TotalBsmtSF     X1stFlrSF     X2ndFlrSF \n",
       "            0             0             0             0             0 \n",
       " LowQualFinSF     GrLivArea  BsmtFullBath  BsmtHalfBath      FullBath \n",
       "            0             0             0             0             0 \n",
       "     HalfBath  BedroomAbvGr  KitchenAbvGr  TotRmsAbvGrd    Fireplaces \n",
       "            0             0             0             0             0 \n",
       "  GarageYrBlt    GarageCars    GarageArea    WoodDeckSF   OpenPorchSF \n",
       "           81             0             0             0             0 \n",
       "EnclosedPorch    X3SsnPorch   ScreenPorch      PoolArea       MiscVal \n",
       "            0             0             0             0             0 \n",
       "       MoSold        YrSold     SalePrice \n",
       "            0             0             0 "
      ]
     },
     "metadata": {},
     "output_type": "display_data"
    },
    {
     "data": {
      "text/html": [
       "348"
      ],
      "text/latex": [
       "348"
      ],
      "text/markdown": [
       "348"
      ],
      "text/plain": [
       "[1] 348"
      ]
     },
     "metadata": {},
     "output_type": "display_data"
    },
    {
     "data": {
      "text/html": [
       "<dl class=dl-horizontal>\n",
       "\t<dt>Id</dt>\n",
       "\t\t<dd>0</dd>\n",
       "\t<dt>MSSubClass</dt>\n",
       "\t\t<dd>0</dd>\n",
       "\t<dt>MSZoning</dt>\n",
       "\t\t<dd>0</dd>\n",
       "\t<dt>LotFrontage</dt>\n",
       "\t\t<dd>259</dd>\n",
       "\t<dt>LotArea</dt>\n",
       "\t\t<dd>0</dd>\n",
       "\t<dt>Street</dt>\n",
       "\t\t<dd>0</dd>\n",
       "\t<dt>Alley</dt>\n",
       "\t\t<dd>1369</dd>\n",
       "\t<dt>LotShape</dt>\n",
       "\t\t<dd>0</dd>\n",
       "\t<dt>LandContour</dt>\n",
       "\t\t<dd>0</dd>\n",
       "\t<dt>Utilities</dt>\n",
       "\t\t<dd>0</dd>\n",
       "\t<dt>LotConfig</dt>\n",
       "\t\t<dd>0</dd>\n",
       "\t<dt>LandSlope</dt>\n",
       "\t\t<dd>0</dd>\n",
       "\t<dt>Neighborhood</dt>\n",
       "\t\t<dd>0</dd>\n",
       "\t<dt>Condition1</dt>\n",
       "\t\t<dd>0</dd>\n",
       "\t<dt>Condition2</dt>\n",
       "\t\t<dd>0</dd>\n",
       "\t<dt>BldgType</dt>\n",
       "\t\t<dd>0</dd>\n",
       "\t<dt>HouseStyle</dt>\n",
       "\t\t<dd>0</dd>\n",
       "\t<dt>OverallQual</dt>\n",
       "\t\t<dd>0</dd>\n",
       "\t<dt>OverallCond</dt>\n",
       "\t\t<dd>0</dd>\n",
       "\t<dt>YearBuilt</dt>\n",
       "\t\t<dd>0</dd>\n",
       "\t<dt>YearRemodAdd</dt>\n",
       "\t\t<dd>0</dd>\n",
       "\t<dt>RoofStyle</dt>\n",
       "\t\t<dd>0</dd>\n",
       "\t<dt>RoofMatl</dt>\n",
       "\t\t<dd>0</dd>\n",
       "\t<dt>Exterior1st</dt>\n",
       "\t\t<dd>0</dd>\n",
       "\t<dt>Exterior2nd</dt>\n",
       "\t\t<dd>0</dd>\n",
       "\t<dt>MasVnrType</dt>\n",
       "\t\t<dd>8</dd>\n",
       "\t<dt>MasVnrArea</dt>\n",
       "\t\t<dd>8</dd>\n",
       "\t<dt>ExterQual</dt>\n",
       "\t\t<dd>0</dd>\n",
       "\t<dt>ExterCond</dt>\n",
       "\t\t<dd>0</dd>\n",
       "\t<dt>Foundation</dt>\n",
       "\t\t<dd>0</dd>\n",
       "\t<dt>BsmtQual</dt>\n",
       "\t\t<dd>37</dd>\n",
       "\t<dt>BsmtCond</dt>\n",
       "\t\t<dd>37</dd>\n",
       "\t<dt>BsmtExposure</dt>\n",
       "\t\t<dd>38</dd>\n",
       "\t<dt>BsmtFinType1</dt>\n",
       "\t\t<dd>37</dd>\n",
       "\t<dt>BsmtFinSF1</dt>\n",
       "\t\t<dd>0</dd>\n",
       "\t<dt>BsmtFinType2</dt>\n",
       "\t\t<dd>38</dd>\n",
       "\t<dt>BsmtFinSF2</dt>\n",
       "\t\t<dd>0</dd>\n",
       "\t<dt>BsmtUnfSF</dt>\n",
       "\t\t<dd>0</dd>\n",
       "\t<dt>TotalBsmtSF</dt>\n",
       "\t\t<dd>0</dd>\n",
       "\t<dt>Heating</dt>\n",
       "\t\t<dd>0</dd>\n",
       "\t<dt>HeatingQC</dt>\n",
       "\t\t<dd>0</dd>\n",
       "\t<dt>CentralAir</dt>\n",
       "\t\t<dd>0</dd>\n",
       "\t<dt>Electrical</dt>\n",
       "\t\t<dd>1</dd>\n",
       "\t<dt>X1stFlrSF</dt>\n",
       "\t\t<dd>0</dd>\n",
       "\t<dt>X2ndFlrSF</dt>\n",
       "\t\t<dd>0</dd>\n",
       "\t<dt>LowQualFinSF</dt>\n",
       "\t\t<dd>0</dd>\n",
       "\t<dt>GrLivArea</dt>\n",
       "\t\t<dd>0</dd>\n",
       "\t<dt>BsmtFullBath</dt>\n",
       "\t\t<dd>0</dd>\n",
       "\t<dt>BsmtHalfBath</dt>\n",
       "\t\t<dd>0</dd>\n",
       "\t<dt>FullBath</dt>\n",
       "\t\t<dd>0</dd>\n",
       "\t<dt>HalfBath</dt>\n",
       "\t\t<dd>0</dd>\n",
       "\t<dt>BedroomAbvGr</dt>\n",
       "\t\t<dd>0</dd>\n",
       "\t<dt>KitchenAbvGr</dt>\n",
       "\t\t<dd>0</dd>\n",
       "\t<dt>KitchenQual</dt>\n",
       "\t\t<dd>0</dd>\n",
       "\t<dt>TotRmsAbvGrd</dt>\n",
       "\t\t<dd>0</dd>\n",
       "\t<dt>Functional</dt>\n",
       "\t\t<dd>0</dd>\n",
       "\t<dt>Fireplaces</dt>\n",
       "\t\t<dd>0</dd>\n",
       "\t<dt>FireplaceQu</dt>\n",
       "\t\t<dd>690</dd>\n",
       "\t<dt>GarageType</dt>\n",
       "\t\t<dd>81</dd>\n",
       "\t<dt>GarageYrBlt</dt>\n",
       "\t\t<dd>81</dd>\n",
       "\t<dt>GarageFinish</dt>\n",
       "\t\t<dd>81</dd>\n",
       "\t<dt>GarageCars</dt>\n",
       "\t\t<dd>0</dd>\n",
       "\t<dt>GarageArea</dt>\n",
       "\t\t<dd>0</dd>\n",
       "\t<dt>GarageQual</dt>\n",
       "\t\t<dd>81</dd>\n",
       "\t<dt>GarageCond</dt>\n",
       "\t\t<dd>81</dd>\n",
       "\t<dt>PavedDrive</dt>\n",
       "\t\t<dd>0</dd>\n",
       "\t<dt>WoodDeckSF</dt>\n",
       "\t\t<dd>0</dd>\n",
       "\t<dt>OpenPorchSF</dt>\n",
       "\t\t<dd>0</dd>\n",
       "\t<dt>EnclosedPorch</dt>\n",
       "\t\t<dd>0</dd>\n",
       "\t<dt>X3SsnPorch</dt>\n",
       "\t\t<dd>0</dd>\n",
       "\t<dt>ScreenPorch</dt>\n",
       "\t\t<dd>0</dd>\n",
       "\t<dt>PoolArea</dt>\n",
       "\t\t<dd>0</dd>\n",
       "\t<dt>PoolQC</dt>\n",
       "\t\t<dd>1453</dd>\n",
       "\t<dt>Fence</dt>\n",
       "\t\t<dd>1179</dd>\n",
       "\t<dt>MiscFeature</dt>\n",
       "\t\t<dd>1406</dd>\n",
       "\t<dt>MiscVal</dt>\n",
       "\t\t<dd>0</dd>\n",
       "\t<dt>MoSold</dt>\n",
       "\t\t<dd>0</dd>\n",
       "\t<dt>YrSold</dt>\n",
       "\t\t<dd>0</dd>\n",
       "\t<dt>SaleType</dt>\n",
       "\t\t<dd>0</dd>\n",
       "\t<dt>SaleCondition</dt>\n",
       "\t\t<dd>0</dd>\n",
       "\t<dt>SalePrice</dt>\n",
       "\t\t<dd>0</dd>\n",
       "</dl>\n"
      ],
      "text/latex": [
       "\\begin{description*}\n",
       "\\item[Id] 0\n",
       "\\item[MSSubClass] 0\n",
       "\\item[MSZoning] 0\n",
       "\\item[LotFrontage] 259\n",
       "\\item[LotArea] 0\n",
       "\\item[Street] 0\n",
       "\\item[Alley] 1369\n",
       "\\item[LotShape] 0\n",
       "\\item[LandContour] 0\n",
       "\\item[Utilities] 0\n",
       "\\item[LotConfig] 0\n",
       "\\item[LandSlope] 0\n",
       "\\item[Neighborhood] 0\n",
       "\\item[Condition1] 0\n",
       "\\item[Condition2] 0\n",
       "\\item[BldgType] 0\n",
       "\\item[HouseStyle] 0\n",
       "\\item[OverallQual] 0\n",
       "\\item[OverallCond] 0\n",
       "\\item[YearBuilt] 0\n",
       "\\item[YearRemodAdd] 0\n",
       "\\item[RoofStyle] 0\n",
       "\\item[RoofMatl] 0\n",
       "\\item[Exterior1st] 0\n",
       "\\item[Exterior2nd] 0\n",
       "\\item[MasVnrType] 8\n",
       "\\item[MasVnrArea] 8\n",
       "\\item[ExterQual] 0\n",
       "\\item[ExterCond] 0\n",
       "\\item[Foundation] 0\n",
       "\\item[BsmtQual] 37\n",
       "\\item[BsmtCond] 37\n",
       "\\item[BsmtExposure] 38\n",
       "\\item[BsmtFinType1] 37\n",
       "\\item[BsmtFinSF1] 0\n",
       "\\item[BsmtFinType2] 38\n",
       "\\item[BsmtFinSF2] 0\n",
       "\\item[BsmtUnfSF] 0\n",
       "\\item[TotalBsmtSF] 0\n",
       "\\item[Heating] 0\n",
       "\\item[HeatingQC] 0\n",
       "\\item[CentralAir] 0\n",
       "\\item[Electrical] 1\n",
       "\\item[X1stFlrSF] 0\n",
       "\\item[X2ndFlrSF] 0\n",
       "\\item[LowQualFinSF] 0\n",
       "\\item[GrLivArea] 0\n",
       "\\item[BsmtFullBath] 0\n",
       "\\item[BsmtHalfBath] 0\n",
       "\\item[FullBath] 0\n",
       "\\item[HalfBath] 0\n",
       "\\item[BedroomAbvGr] 0\n",
       "\\item[KitchenAbvGr] 0\n",
       "\\item[KitchenQual] 0\n",
       "\\item[TotRmsAbvGrd] 0\n",
       "\\item[Functional] 0\n",
       "\\item[Fireplaces] 0\n",
       "\\item[FireplaceQu] 690\n",
       "\\item[GarageType] 81\n",
       "\\item[GarageYrBlt] 81\n",
       "\\item[GarageFinish] 81\n",
       "\\item[GarageCars] 0\n",
       "\\item[GarageArea] 0\n",
       "\\item[GarageQual] 81\n",
       "\\item[GarageCond] 81\n",
       "\\item[PavedDrive] 0\n",
       "\\item[WoodDeckSF] 0\n",
       "\\item[OpenPorchSF] 0\n",
       "\\item[EnclosedPorch] 0\n",
       "\\item[X3SsnPorch] 0\n",
       "\\item[ScreenPorch] 0\n",
       "\\item[PoolArea] 0\n",
       "\\item[PoolQC] 1453\n",
       "\\item[Fence] 1179\n",
       "\\item[MiscFeature] 1406\n",
       "\\item[MiscVal] 0\n",
       "\\item[MoSold] 0\n",
       "\\item[YrSold] 0\n",
       "\\item[SaleType] 0\n",
       "\\item[SaleCondition] 0\n",
       "\\item[SalePrice] 0\n",
       "\\end{description*}\n"
      ],
      "text/markdown": [
       "Id\n",
       ":   0MSSubClass\n",
       ":   0MSZoning\n",
       ":   0LotFrontage\n",
       ":   259LotArea\n",
       ":   0Street\n",
       ":   0Alley\n",
       ":   1369LotShape\n",
       ":   0LandContour\n",
       ":   0Utilities\n",
       ":   0LotConfig\n",
       ":   0LandSlope\n",
       ":   0Neighborhood\n",
       ":   0Condition1\n",
       ":   0Condition2\n",
       ":   0BldgType\n",
       ":   0HouseStyle\n",
       ":   0OverallQual\n",
       ":   0OverallCond\n",
       ":   0YearBuilt\n",
       ":   0YearRemodAdd\n",
       ":   0RoofStyle\n",
       ":   0RoofMatl\n",
       ":   0Exterior1st\n",
       ":   0Exterior2nd\n",
       ":   0MasVnrType\n",
       ":   8MasVnrArea\n",
       ":   8ExterQual\n",
       ":   0ExterCond\n",
       ":   0Foundation\n",
       ":   0BsmtQual\n",
       ":   37BsmtCond\n",
       ":   37BsmtExposure\n",
       ":   38BsmtFinType1\n",
       ":   37BsmtFinSF1\n",
       ":   0BsmtFinType2\n",
       ":   38BsmtFinSF2\n",
       ":   0BsmtUnfSF\n",
       ":   0TotalBsmtSF\n",
       ":   0Heating\n",
       ":   0HeatingQC\n",
       ":   0CentralAir\n",
       ":   0Electrical\n",
       ":   1X1stFlrSF\n",
       ":   0X2ndFlrSF\n",
       ":   0LowQualFinSF\n",
       ":   0GrLivArea\n",
       ":   0BsmtFullBath\n",
       ":   0BsmtHalfBath\n",
       ":   0FullBath\n",
       ":   0HalfBath\n",
       ":   0BedroomAbvGr\n",
       ":   0KitchenAbvGr\n",
       ":   0KitchenQual\n",
       ":   0TotRmsAbvGrd\n",
       ":   0Functional\n",
       ":   0Fireplaces\n",
       ":   0FireplaceQu\n",
       ":   690GarageType\n",
       ":   81GarageYrBlt\n",
       ":   81GarageFinish\n",
       ":   81GarageCars\n",
       ":   0GarageArea\n",
       ":   0GarageQual\n",
       ":   81GarageCond\n",
       ":   81PavedDrive\n",
       ":   0WoodDeckSF\n",
       ":   0OpenPorchSF\n",
       ":   0EnclosedPorch\n",
       ":   0X3SsnPorch\n",
       ":   0ScreenPorch\n",
       ":   0PoolArea\n",
       ":   0PoolQC\n",
       ":   1453Fence\n",
       ":   1179MiscFeature\n",
       ":   1406MiscVal\n",
       ":   0MoSold\n",
       ":   0YrSold\n",
       ":   0SaleType\n",
       ":   0SaleCondition\n",
       ":   0SalePrice\n",
       ":   0\n",
       "\n"
      ],
      "text/plain": [
       "           Id    MSSubClass      MSZoning   LotFrontage       LotArea \n",
       "            0             0             0           259             0 \n",
       "       Street         Alley      LotShape   LandContour     Utilities \n",
       "            0          1369             0             0             0 \n",
       "    LotConfig     LandSlope  Neighborhood    Condition1    Condition2 \n",
       "            0             0             0             0             0 \n",
       "     BldgType    HouseStyle   OverallQual   OverallCond     YearBuilt \n",
       "            0             0             0             0             0 \n",
       " YearRemodAdd     RoofStyle      RoofMatl   Exterior1st   Exterior2nd \n",
       "            0             0             0             0             0 \n",
       "   MasVnrType    MasVnrArea     ExterQual     ExterCond    Foundation \n",
       "            8             8             0             0             0 \n",
       "     BsmtQual      BsmtCond  BsmtExposure  BsmtFinType1    BsmtFinSF1 \n",
       "           37            37            38            37             0 \n",
       " BsmtFinType2    BsmtFinSF2     BsmtUnfSF   TotalBsmtSF       Heating \n",
       "           38             0             0             0             0 \n",
       "    HeatingQC    CentralAir    Electrical     X1stFlrSF     X2ndFlrSF \n",
       "            0             0             1             0             0 \n",
       " LowQualFinSF     GrLivArea  BsmtFullBath  BsmtHalfBath      FullBath \n",
       "            0             0             0             0             0 \n",
       "     HalfBath  BedroomAbvGr  KitchenAbvGr   KitchenQual  TotRmsAbvGrd \n",
       "            0             0             0             0             0 \n",
       "   Functional    Fireplaces   FireplaceQu    GarageType   GarageYrBlt \n",
       "            0             0           690            81            81 \n",
       " GarageFinish    GarageCars    GarageArea    GarageQual    GarageCond \n",
       "           81             0             0            81            81 \n",
       "   PavedDrive    WoodDeckSF   OpenPorchSF EnclosedPorch    X3SsnPorch \n",
       "            0             0             0             0             0 \n",
       "  ScreenPorch      PoolArea        PoolQC         Fence   MiscFeature \n",
       "            0             0          1453          1179          1406 \n",
       "      MiscVal        MoSold        YrSold      SaleType SaleCondition \n",
       "            0             0             0             0             0 \n",
       "    SalePrice \n",
       "            0 "
      ]
     },
     "metadata": {},
     "output_type": "display_data"
    },
    {
     "data": {
      "text/html": [
       "6965"
      ],
      "text/latex": [
       "6965"
      ],
      "text/markdown": [
       "6965"
      ],
      "text/plain": [
       "[1] 6965"
      ]
     },
     "metadata": {},
     "output_type": "display_data"
    },
    {
     "data": {
      "text/html": [
       "FALSE"
      ],
      "text/latex": [
       "FALSE"
      ],
      "text/markdown": [
       "FALSE"
      ],
      "text/plain": [
       "[1] FALSE"
      ]
     },
     "metadata": {},
     "output_type": "display_data"
    },
    {
     "ename": "ERROR",
     "evalue": "Error in View(dplyr::distinct(nicetable)): ‘View()’ not yet supported in the Jupyter R kernel\n",
     "output_type": "error",
     "traceback": [
      "Error in View(dplyr::distinct(nicetable)): ‘View()’ not yet supported in the Jupyter R kernel\nTraceback:\n",
      "1. View(dplyr::distinct(nicetable))",
      "2. stop(sQuote(\"View()\"), \" not yet supported in the Jupyter R kernel\")"
     ]
    },
    {
     "data": {
      "image/png": "[encoded data removed]",
      "text/plain": [
       "plot without title"
      ]
     },
     "metadata": {},
     "output_type": "display_data"
    }
   ],
   "source": [
    "library(\"dplyr\")\n",
    "library(\"ggplot2\")\n",
    "library(\"readxl\")\n",
    "library(\"tidyverse\")\n",
    "\n",
    "\n",
    "\n",
    "\n",
    "\n",
    "\n",
    "#STEP1\n",
    "\n",
    "train <- read.csv(file = \"train.csv\", head = TRUE, sep=\",\")\n",
    "\n",
    "test <- read.csv(file = \"test.csv\", head = TRUE, sep=\",\")\n",
    "\n",
    "#STEP2\n",
    "\n",
    "dim(train)\n",
    "\n",
    "\n",
    "#STEP3\n",
    "\n",
    "str(train)\n",
    "\n",
    "class(train$SalePrice)\n",
    "\n",
    "\n",
    "#STEP4\n",
    "\n",
    "class(train$LotFrontage)\n",
    "\n",
    "is.numeric(train$LotFrontage)\n",
    "\n",
    "class(train$LotArea)\n",
    "\n",
    "is.numeric(train$LotArea)\n",
    "\n",
    "\n",
    "\n",
    "#STEP5\n",
    "\n",
    "summary(train)\n",
    "nicetable1 <- dplyr::select_if(train, is.numeric)\n",
    "nicetable <- dplyr::select_if(train, is.numeric)\n",
    "summary(nicetable)\n",
    "\n",
    "#STEP6\n",
    "\n",
    "\n",
    "ggplot(data=nicetable) + geom_histogram(mapping = aes(x=YearBuilt, colour = YearBuilt))\n",
    "\n",
    "ggplot(data=nicetable) + geom_histogram(mapping = aes(x=OverallQual, colour = OverallQual))\n",
    "\n",
    "ggplot(data=nicetable) + geom_histogram(mapping = aes(x=OverallCond, colour = OverallCond))\n",
    "\n",
    "\n",
    "#STEP7\n",
    "\n",
    "#check if missing values\n",
    "summary(train)\n",
    "summary(nicetable)\n",
    "\n",
    "#nicetable by column\n",
    "colSums(is.na(nicetable))\n",
    "sum(is.na(nicetable))\n",
    "\n",
    "\n",
    "#train by column\n",
    "colSums(is.na(train))\n",
    "sum(is.na(train))\n",
    "\n",
    "\n",
    "#STEP8\n",
    "\n",
    "#nicetable\n",
    "any(duplicated(nicetable))\n",
    "\n",
    "nt1 <- unique(nicetable)\n",
    "nt1 <- dplyr::distinct(nicetable)\n",
    "\n",
    "View(dplyr::distinct(nicetable))\n",
    "\n",
    "#there is no duplicate in nicetable\n",
    "\n",
    "#train\n",
    "any(duplicated(train))\n",
    "ctrain <- unique(train)\n",
    "ctrain <- dplyr::distinct(train)\n",
    "\n",
    "View(dplyr::distinct(train))\n",
    "\n",
    "#there is no duplicate in train\n",
    "\n",
    "\n",
    "#STEP9\n",
    "\n",
    "str(train)\n",
    "train1<- train %>% mutate_if (is.character,as.factor)\n",
    "#we didn't have any character in our train table as we can see with str(train) so no change happened.\n",
    "\n",
    "\n",
    "#STEP10\n",
    "\n",
    "train <- mutate(.data = train, lprice=log(SalePrice))\n",
    "#to create variable log of the price\n",
    "\n",
    "#modela <- lm(lprice ~ . -SalePrice - Id , data=train)\n",
    "#we have a problem when we run the above modela (commented out above) they don't accept integer with less than 2 factors so we try to find which variable is with less than 2 level and exclude them from the model\n",
    "\n",
    "traina<- train[, sapply(train, nlevels) > 1]\n",
    "#to get a table with factors with more than 1 level\n",
    "\n",
    "###############################################\n",
    "#modelb <- lm(lprice ~ . -SalePrice - Id , data=traina)\n",
    "#problem : exclude integer variable and still have problem of level using regression\n",
    "###############################################\n",
    "\n",
    "\n",
    "#we will use the numeric database\n",
    "\n",
    "nicetable <- mutate(.data = nicetable, lprice=log(SalePrice))\n",
    "modelc <- lm(lprice ~ . -SalePrice -Id, data=nicetable)\n",
    "summary(modelc)\n",
    "\n",
    "\n",
    "#STEP11\n",
    "\n",
    "\n",
    "test <- read.csv(file = \"test.csv\", head = TRUE, sep=\",\")\n",
    "\n",
    "\n",
    "modeld <- lm(SalePrice ~ . -Id, data=nicetable1)\n",
    "\n",
    "pred <- predict(modeld, test)\n",
    "\n",
    "write.csv(x=pred, file = \"pred.csv\")\n",
    "\n",
    "#STEP12\n",
    "\n",
    "\n",
    "\n",
    "\n",
    "\n"
   ]
  },
  {
   "cell_type": "code",
   "execution_count": null,
   "metadata": {},
   "outputs": [],
   "source": [
    "runif(100)"
   ]
  },
  {
   "cell_type": "code",
   "execution_count": null,
   "metadata": {},
   "outputs": [],
   "source": [
    "rnorm(100)"
   ]
  },
  {
   "cell_type": "code",
   "execution_count": 36,
   "metadata": {},
   "outputs": [
    {
     "data": {
      "text/html": [
       "<table>\n",
       "<thead><tr><th scope=col>y</th><th scope=col>x</th><th scope=col>error</th></tr></thead>\n",
       "<tbody>\n",
       "\t<tr><td>-1.57862443 </td><td>0.113703411 </td><td>-1.806031257</td></tr>\n",
       "\t<tr><td> 0.66252288 </td><td>0.622299405 </td><td>-0.582075925</td></tr>\n",
       "\t<tr><td> 0.10965984 </td><td>0.609274733 </td><td>-1.108889624</td></tr>\n",
       "\t<tr><td> 0.23179687 </td><td>0.623379442 </td><td>-1.014962009</td></tr>\n",
       "\t<tr><td> 1.55952124 </td><td>0.860915384 </td><td>-0.162309524</td></tr>\n",
       "\t<tr><td> 1.84367703 </td><td>0.640310605 </td><td> 0.563055819</td></tr>\n",
       "\t<tr><td> 1.66680899 </td><td>0.009495756 </td><td> 1.647817473</td></tr>\n",
       "\t<tr><td>-0.30825241 </td><td>0.232550506 </td><td>-0.773353424</td></tr>\n",
       "\t<tr><td> 2.93807715 </td><td>0.666083758 </td><td> 1.605909629</td></tr>\n",
       "\t<tr><td>-0.12930627 </td><td>0.514251141 </td><td>-1.157808548</td></tr>\n",
       "\t<tr><td> 2.04377105 </td><td>0.693591292 </td><td> 0.656588464</td></tr>\n",
       "\t<tr><td> 3.63894074 </td><td>0.544974836 </td><td> 2.548991071</td></tr>\n",
       "\t<tr><td> 0.53070678 </td><td>0.282733584 </td><td>-0.034760390</td></tr>\n",
       "\t<tr><td> 1.17723339 </td><td>0.923433484 </td><td>-0.669633580</td></tr>\n",
       "\t<tr><td> 0.57702692 </td><td>0.292315840 </td><td>-0.007604756</td></tr>\n",
       "\t<tr><td> 3.45167570 </td><td>0.837295628 </td><td> 1.777084448</td></tr>\n",
       "\t<tr><td>-0.56616117 </td><td>0.286223285 </td><td>-1.138607737</td></tr>\n",
       "\t<tr><td> 1.90146874 </td><td>0.266820780 </td><td> 1.367827179</td></tr>\n",
       "\t<tr><td> 1.70301037 </td><td>0.186722790 </td><td> 1.329564791</td></tr>\n",
       "\t<tr><td> 0.80092462 </td><td>0.232225911 </td><td> 0.336472797</td></tr>\n",
       "\t<tr><td> 0.64011775 </td><td>0.316612455 </td><td> 0.006892838</td></tr>\n",
       "\t<tr><td> 0.14991800 </td><td>0.302693371 </td><td>-0.455468738</td></tr>\n",
       "\t<tr><td>-0.04843193 </td><td>0.159046003 </td><td>-0.366523933</td></tr>\n",
       "\t<tr><td> 0.72827840 </td><td>0.039995918 </td><td> 0.648286568</td></tr>\n",
       "\t<tr><td> 2.50786994 </td><td>0.218799541 </td><td> 2.070270861</td></tr>\n",
       "\t<tr><td> 1.46779869 </td><td>0.810598552 </td><td>-0.153398412</td></tr>\n",
       "\t<tr><td>-0.33930585 </td><td>0.525697547 </td><td>-1.390700947</td></tr>\n",
       "\t<tr><td> 1.10573455 </td><td>0.914658166 </td><td>-0.723581777</td></tr>\n",
       "\t<tr><td> 1.92095186 </td><td>0.831345047 </td><td> 0.258261762</td></tr>\n",
       "\t<tr><td>-0.22551859 </td><td>0.045770263 </td><td>-0.317059115</td></tr>\n",
       "\t<tr><td>⋮</td><td>⋮</td><td>⋮</td></tr>\n",
       "\t<tr><td> 0.051568206</td><td>0.12148019  </td><td>-0.19139217 </td></tr>\n",
       "\t<tr><td> 1.003766117</td><td>0.89283638  </td><td>-0.78190665 </td></tr>\n",
       "\t<tr><td> 2.087416499</td><td>0.01462726  </td><td> 2.05816199 </td></tr>\n",
       "\t<tr><td> 2.316743660</td><td>0.78312110  </td><td> 0.75050145 </td></tr>\n",
       "\t<tr><td> 2.004130968</td><td>0.08996133  </td><td> 1.82420830 </td></tr>\n",
       "\t<tr><td> 1.118439603</td><td>0.51918998  </td><td> 0.08005964 </td></tr>\n",
       "\t<tr><td> 0.137124076</td><td>0.38426669  </td><td>-0.63140930 </td></tr>\n",
       "\t<tr><td>-1.373183125</td><td>0.07005250  </td><td>-1.51328812 </td></tr>\n",
       "\t<tr><td> 0.005189013</td><td>0.32064442  </td><td>-0.63609983 </td></tr>\n",
       "\t<tr><td> 1.563292327</td><td>0.66849540  </td><td> 0.22630153 </td></tr>\n",
       "\t<tr><td> 2.866491300</td><td>0.92640048  </td><td> 1.01369035 </td></tr>\n",
       "\t<tr><td> 1.196569577</td><td>0.47190972  </td><td> 0.25275014 </td></tr>\n",
       "\t<tr><td>-0.886717626</td><td>0.14261534  </td><td>-1.17194831 </td></tr>\n",
       "\t<tr><td> 1.757253839</td><td>0.54426976  </td><td> 0.66871433 </td></tr>\n",
       "\t<tr><td>-1.257751631</td><td>0.19617465  </td><td>-1.65010093 </td></tr>\n",
       "\t<tr><td> 1.431308730</td><td>0.89858049  </td><td>-0.36585225 </td></tr>\n",
       "\t<tr><td> 0.462881241</td><td>0.38949978  </td><td>-0.31611833 </td></tr>\n",
       "\t<tr><td>-1.326504488</td><td>0.31087078  </td><td>-1.94824605 </td></tr>\n",
       "\t<tr><td> 1.240114848</td><td>0.16002866  </td><td> 0.92005752 </td></tr>\n",
       "\t<tr><td> 1.169500104</td><td>0.89618585  </td><td>-0.62287159 </td></tr>\n",
       "\t<tr><td>-0.001249089</td><td>0.16639378  </td><td>-0.33403665 </td></tr>\n",
       "\t<tr><td> 3.195997085</td><td>0.90042460  </td><td> 1.39514789 </td></tr>\n",
       "\t<tr><td> 0.904830801</td><td>0.13407820  </td><td> 0.63667441 </td></tr>\n",
       "\t<tr><td> 0.154796571</td><td>0.13161413  </td><td>-0.10843170 </td></tr>\n",
       "\t<tr><td> 0.724337783</td><td>0.10528750  </td><td> 0.51376278 </td></tr>\n",
       "\t<tr><td> 1.422438969</td><td>0.51158358  </td><td> 0.39927181 </td></tr>\n",
       "\t<tr><td> 2.263254555</td><td>0.30019905  </td><td> 1.66285645 </td></tr>\n",
       "\t<tr><td> 0.329327194</td><td>0.02671690  </td><td> 0.27589340 </td></tr>\n",
       "\t<tr><td> 1.125567486</td><td>0.30964743  </td><td> 0.50627262 </td></tr>\n",
       "\t<tr><td> 1.831791289</td><td>0.74211966  </td><td> 0.34755198 </td></tr>\n",
       "</tbody>\n",
       "</table>\n"
      ],
      "text/latex": [
       "\\begin{tabular}{r|lll}\n",
       " y & x & error\\\\\n",
       "\\hline\n",
       "\t -1.57862443  & 0.113703411  & -1.806031257\\\\\n",
       "\t  0.66252288  & 0.622299405  & -0.582075925\\\\\n",
       "\t  0.10965984  & 0.609274733  & -1.108889624\\\\\n",
       "\t  0.23179687  & 0.623379442  & -1.014962009\\\\\n",
       "\t  1.55952124  & 0.860915384  & -0.162309524\\\\\n",
       "\t  1.84367703  & 0.640310605  &  0.563055819\\\\\n",
       "\t  1.66680899  & 0.009495756  &  1.647817473\\\\\n",
       "\t -0.30825241  & 0.232550506  & -0.773353424\\\\\n",
       "\t  2.93807715  & 0.666083758  &  1.605909629\\\\\n",
       "\t -0.12930627  & 0.514251141  & -1.157808548\\\\\n",
       "\t  2.04377105  & 0.693591292  &  0.656588464\\\\\n",
       "\t  3.63894074  & 0.544974836  &  2.548991071\\\\\n",
       "\t  0.53070678  & 0.282733584  & -0.034760390\\\\\n",
       "\t  1.17723339  & 0.923433484  & -0.669633580\\\\\n",
       "\t  0.57702692  & 0.292315840  & -0.007604756\\\\\n",
       "\t  3.45167570  & 0.837295628  &  1.777084448\\\\\n",
       "\t -0.56616117  & 0.286223285  & -1.138607737\\\\\n",
       "\t  1.90146874  & 0.266820780  &  1.367827179\\\\\n",
       "\t  1.70301037  & 0.186722790  &  1.329564791\\\\\n",
       "\t  0.80092462  & 0.232225911  &  0.336472797\\\\\n",
       "\t  0.64011775  & 0.316612455  &  0.006892838\\\\\n",
       "\t  0.14991800  & 0.302693371  & -0.455468738\\\\\n",
       "\t -0.04843193  & 0.159046003  & -0.366523933\\\\\n",
       "\t  0.72827840  & 0.039995918  &  0.648286568\\\\\n",
       "\t  2.50786994  & 0.218799541  &  2.070270861\\\\\n",
       "\t  1.46779869  & 0.810598552  & -0.153398412\\\\\n",
       "\t -0.33930585  & 0.525697547  & -1.390700947\\\\\n",
       "\t  1.10573455  & 0.914658166  & -0.723581777\\\\\n",
       "\t  1.92095186  & 0.831345047  &  0.258261762\\\\\n",
       "\t -0.22551859  & 0.045770263  & -0.317059115\\\\\n",
       "\t ⋮ & ⋮ & ⋮\\\\\n",
       "\t  0.051568206 & 0.12148019   & -0.19139217 \\\\\n",
       "\t  1.003766117 & 0.89283638   & -0.78190665 \\\\\n",
       "\t  2.087416499 & 0.01462726   &  2.05816199 \\\\\n",
       "\t  2.316743660 & 0.78312110   &  0.75050145 \\\\\n",
       "\t  2.004130968 & 0.08996133   &  1.82420830 \\\\\n",
       "\t  1.118439603 & 0.51918998   &  0.08005964 \\\\\n",
       "\t  0.137124076 & 0.38426669   & -0.63140930 \\\\\n",
       "\t -1.373183125 & 0.07005250   & -1.51328812 \\\\\n",
       "\t  0.005189013 & 0.32064442   & -0.63609983 \\\\\n",
       "\t  1.563292327 & 0.66849540   &  0.22630153 \\\\\n",
       "\t  2.866491300 & 0.92640048   &  1.01369035 \\\\\n",
       "\t  1.196569577 & 0.47190972   &  0.25275014 \\\\\n",
       "\t -0.886717626 & 0.14261534   & -1.17194831 \\\\\n",
       "\t  1.757253839 & 0.54426976   &  0.66871433 \\\\\n",
       "\t -1.257751631 & 0.19617465   & -1.65010093 \\\\\n",
       "\t  1.431308730 & 0.89858049   & -0.36585225 \\\\\n",
       "\t  0.462881241 & 0.38949978   & -0.31611833 \\\\\n",
       "\t -1.326504488 & 0.31087078   & -1.94824605 \\\\\n",
       "\t  1.240114848 & 0.16002866   &  0.92005752 \\\\\n",
       "\t  1.169500104 & 0.89618585   & -0.62287159 \\\\\n",
       "\t -0.001249089 & 0.16639378   & -0.33403665 \\\\\n",
       "\t  3.195997085 & 0.90042460   &  1.39514789 \\\\\n",
       "\t  0.904830801 & 0.13407820   &  0.63667441 \\\\\n",
       "\t  0.154796571 & 0.13161413   & -0.10843170 \\\\\n",
       "\t  0.724337783 & 0.10528750   &  0.51376278 \\\\\n",
       "\t  1.422438969 & 0.51158358   &  0.39927181 \\\\\n",
       "\t  2.263254555 & 0.30019905   &  1.66285645 \\\\\n",
       "\t  0.329327194 & 0.02671690   &  0.27589340 \\\\\n",
       "\t  1.125567486 & 0.30964743   &  0.50627262 \\\\\n",
       "\t  1.831791289 & 0.74211966   &  0.34755198 \\\\\n",
       "\\end{tabular}\n"
      ],
      "text/markdown": [
       "\n",
       "y | x | error | \n",
       "|---|---|---|---|---|---|---|---|---|---|---|---|---|---|---|---|---|---|---|---|---|---|---|---|---|---|---|---|---|---|---|---|---|---|---|---|---|---|---|---|---|---|---|---|---|---|---|---|---|---|---|---|---|---|---|---|---|---|---|---|---|\n",
       "| -1.57862443  | 0.113703411  | -1.806031257 | \n",
       "|  0.66252288  | 0.622299405  | -0.582075925 | \n",
       "|  0.10965984  | 0.609274733  | -1.108889624 | \n",
       "|  0.23179687  | 0.623379442  | -1.014962009 | \n",
       "|  1.55952124  | 0.860915384  | -0.162309524 | \n",
       "|  1.84367703  | 0.640310605  |  0.563055819 | \n",
       "|  1.66680899  | 0.009495756  |  1.647817473 | \n",
       "| -0.30825241  | 0.232550506  | -0.773353424 | \n",
       "|  2.93807715  | 0.666083758  |  1.605909629 | \n",
       "| -0.12930627  | 0.514251141  | -1.157808548 | \n",
       "|  2.04377105  | 0.693591292  |  0.656588464 | \n",
       "|  3.63894074  | 0.544974836  |  2.548991071 | \n",
       "|  0.53070678  | 0.282733584  | -0.034760390 | \n",
       "|  1.17723339  | 0.923433484  | -0.669633580 | \n",
       "|  0.57702692  | 0.292315840  | -0.007604756 | \n",
       "|  3.45167570  | 0.837295628  |  1.777084448 | \n",
       "| -0.56616117  | 0.286223285  | -1.138607737 | \n",
       "|  1.90146874  | 0.266820780  |  1.367827179 | \n",
       "|  1.70301037  | 0.186722790  |  1.329564791 | \n",
       "|  0.80092462  | 0.232225911  |  0.336472797 | \n",
       "|  0.64011775  | 0.316612455  |  0.006892838 | \n",
       "|  0.14991800  | 0.302693371  | -0.455468738 | \n",
       "| -0.04843193  | 0.159046003  | -0.366523933 | \n",
       "|  0.72827840  | 0.039995918  |  0.648286568 | \n",
       "|  2.50786994  | 0.218799541  |  2.070270861 | \n",
       "|  1.46779869  | 0.810598552  | -0.153398412 | \n",
       "| -0.33930585  | 0.525697547  | -1.390700947 | \n",
       "|  1.10573455  | 0.914658166  | -0.723581777 | \n",
       "|  1.92095186  | 0.831345047  |  0.258261762 | \n",
       "| -0.22551859  | 0.045770263  | -0.317059115 | \n",
       "| ⋮ | ⋮ | ⋮ | \n",
       "|  0.051568206 | 0.12148019   | -0.19139217  | \n",
       "|  1.003766117 | 0.89283638   | -0.78190665  | \n",
       "|  2.087416499 | 0.01462726   |  2.05816199  | \n",
       "|  2.316743660 | 0.78312110   |  0.75050145  | \n",
       "|  2.004130968 | 0.08996133   |  1.82420830  | \n",
       "|  1.118439603 | 0.51918998   |  0.08005964  | \n",
       "|  0.137124076 | 0.38426669   | -0.63140930  | \n",
       "| -1.373183125 | 0.07005250   | -1.51328812  | \n",
       "|  0.005189013 | 0.32064442   | -0.63609983  | \n",
       "|  1.563292327 | 0.66849540   |  0.22630153  | \n",
       "|  2.866491300 | 0.92640048   |  1.01369035  | \n",
       "|  1.196569577 | 0.47190972   |  0.25275014  | \n",
       "| -0.886717626 | 0.14261534   | -1.17194831  | \n",
       "|  1.757253839 | 0.54426976   |  0.66871433  | \n",
       "| -1.257751631 | 0.19617465   | -1.65010093  | \n",
       "|  1.431308730 | 0.89858049   | -0.36585225  | \n",
       "|  0.462881241 | 0.38949978   | -0.31611833  | \n",
       "| -1.326504488 | 0.31087078   | -1.94824605  | \n",
       "|  1.240114848 | 0.16002866   |  0.92005752  | \n",
       "|  1.169500104 | 0.89618585   | -0.62287159  | \n",
       "| -0.001249089 | 0.16639378   | -0.33403665  | \n",
       "|  3.195997085 | 0.90042460   |  1.39514789  | \n",
       "|  0.904830801 | 0.13407820   |  0.63667441  | \n",
       "|  0.154796571 | 0.13161413   | -0.10843170  | \n",
       "|  0.724337783 | 0.10528750   |  0.51376278  | \n",
       "|  1.422438969 | 0.51158358   |  0.39927181  | \n",
       "|  2.263254555 | 0.30019905   |  1.66285645  | \n",
       "|  0.329327194 | 0.02671690   |  0.27589340  | \n",
       "|  1.125567486 | 0.30964743   |  0.50627262  | \n",
       "|  1.831791289 | 0.74211966   |  0.34755198  | \n",
       "\n",
       "\n"
      ],
      "text/plain": [
       "    y            x           error       \n",
       "1   -1.57862443  0.113703411 -1.806031257\n",
       "2    0.66252288  0.622299405 -0.582075925\n",
       "3    0.10965984  0.609274733 -1.108889624\n",
       "4    0.23179687  0.623379442 -1.014962009\n",
       "5    1.55952124  0.860915384 -0.162309524\n",
       "6    1.84367703  0.640310605  0.563055819\n",
       "7    1.66680899  0.009495756  1.647817473\n",
       "8   -0.30825241  0.232550506 -0.773353424\n",
       "9    2.93807715  0.666083758  1.605909629\n",
       "10  -0.12930627  0.514251141 -1.157808548\n",
       "11   2.04377105  0.693591292  0.656588464\n",
       "12   3.63894074  0.544974836  2.548991071\n",
       "13   0.53070678  0.282733584 -0.034760390\n",
       "14   1.17723339  0.923433484 -0.669633580\n",
       "15   0.57702692  0.292315840 -0.007604756\n",
       "16   3.45167570  0.837295628  1.777084448\n",
       "17  -0.56616117  0.286223285 -1.138607737\n",
       "18   1.90146874  0.266820780  1.367827179\n",
       "19   1.70301037  0.186722790  1.329564791\n",
       "20   0.80092462  0.232225911  0.336472797\n",
       "21   0.64011775  0.316612455  0.006892838\n",
       "22   0.14991800  0.302693371 -0.455468738\n",
       "23  -0.04843193  0.159046003 -0.366523933\n",
       "24   0.72827840  0.039995918  0.648286568\n",
       "25   2.50786994  0.218799541  2.070270861\n",
       "26   1.46779869  0.810598552 -0.153398412\n",
       "27  -0.33930585  0.525697547 -1.390700947\n",
       "28   1.10573455  0.914658166 -0.723581777\n",
       "29   1.92095186  0.831345047  0.258261762\n",
       "30  -0.22551859  0.045770263 -0.317059115\n",
       "⋮   ⋮            ⋮           ⋮           \n",
       "71   0.051568206 0.12148019  -0.19139217 \n",
       "72   1.003766117 0.89283638  -0.78190665 \n",
       "73   2.087416499 0.01462726   2.05816199 \n",
       "74   2.316743660 0.78312110   0.75050145 \n",
       "75   2.004130968 0.08996133   1.82420830 \n",
       "76   1.118439603 0.51918998   0.08005964 \n",
       "77   0.137124076 0.38426669  -0.63140930 \n",
       "78  -1.373183125 0.07005250  -1.51328812 \n",
       "79   0.005189013 0.32064442  -0.63609983 \n",
       "80   1.563292327 0.66849540   0.22630153 \n",
       "81   2.866491300 0.92640048   1.01369035 \n",
       "82   1.196569577 0.47190972   0.25275014 \n",
       "83  -0.886717626 0.14261534  -1.17194831 \n",
       "84   1.757253839 0.54426976   0.66871433 \n",
       "85  -1.257751631 0.19617465  -1.65010093 \n",
       "86   1.431308730 0.89858049  -0.36585225 \n",
       "87   0.462881241 0.38949978  -0.31611833 \n",
       "88  -1.326504488 0.31087078  -1.94824605 \n",
       "89   1.240114848 0.16002866   0.92005752 \n",
       "90   1.169500104 0.89618585  -0.62287159 \n",
       "91  -0.001249089 0.16639378  -0.33403665 \n",
       "92   3.195997085 0.90042460   1.39514789 \n",
       "93   0.904830801 0.13407820   0.63667441 \n",
       "94   0.154796571 0.13161413  -0.10843170 \n",
       "95   0.724337783 0.10528750   0.51376278 \n",
       "96   1.422438969 0.51158358   0.39927181 \n",
       "97   2.263254555 0.30019905   1.66285645 \n",
       "98   0.329327194 0.02671690   0.27589340 \n",
       "99   1.125567486 0.30964743   0.50627262 \n",
       "100  1.831791289 0.74211966   0.34755198 "
      ]
     },
     "metadata": {},
     "output_type": "display_data"
    }
   ],
   "source": [
    "##PART2A\n",
    "\n",
    "set.seed(1234)\n",
    "\n",
    "#STEP1\n",
    "\n",
    "#uniform\n",
    "\n",
    "\n",
    "x_values <- runif(100, 0, 1)\n",
    "\n",
    "#normal distrib\n",
    "\n",
    "\n",
    "errors <- rnorm(100, 0, 1)\n",
    "\n",
    "#table\n",
    "# Defining a function that creates the dataframe we're looking for. \n",
    "# Doing this so we can use it later on when we're getting different sample sizes\n",
    "create_regression_dataframe <- function(x_values, errors) {\n",
    "  data.frame(\"y\" = 0 + 2*x_values + errors, \"x\" = x_values, \"error\" = errors)\n",
    "}\n",
    "\n",
    "df <- create_regression_dataframe(x_values, errors)\n",
    "df\n"
   ]
  },
  {
   "cell_type": "code",
   "execution_count": 37,
   "metadata": {},
   "outputs": [
    {
     "data": {},
     "metadata": {},
     "output_type": "display_data"
    },
    {
     "data": {
      "image/png": "[encoded data removed]",
      "text/plain": [
       "plot without title"
      ]
     },
     "metadata": {},
     "output_type": "display_data"
    }
   ],
   "source": [
    "#Step 2\n",
    "\n",
    "ggplot(df, aes(x,y)) + geom_point(aes(colour = x))"
   ]
  },
  {
   "cell_type": "code",
   "execution_count": 38,
   "metadata": {},
   "outputs": [
    {
     "data": {
      "text/plain": [
       "\n",
       "Call:\n",
       "lm(formula = y ~ x, data = df)\n",
       "\n",
       "Residuals:\n",
       "     Min       1Q   Median       3Q      Max \n",
       "-2.03362 -0.66078 -0.08602  0.57926  2.47401 \n",
       "\n",
       "Coefficients:\n",
       "            Estimate Std. Error t value Pr(>|t|)    \n",
       "(Intercept)  0.09919    0.17844   0.556     0.58    \n",
       "x            1.95558    0.34450   5.677  1.4e-07 ***\n",
       "---\n",
       "Signif. codes:  0 ‘***’ 0.001 ‘**’ 0.01 ‘*’ 0.05 ‘.’ 0.1 ‘ ’ 1\n",
       "\n",
       "Residual standard error: 0.9553 on 98 degrees of freedom\n",
       "Multiple R-squared:  0.2475,\tAdjusted R-squared:  0.2398 \n",
       "F-statistic: 32.22 on 1 and 98 DF,  p-value: 1.401e-07\n"
      ]
     },
     "metadata": {},
     "output_type": "display_data"
    }
   ],
   "source": [
    "#Step 3\n",
    "\n",
    "model1 <- lm(y ~ x, data = df)\n",
    "summary(model1)"
   ]
  },
  {
   "cell_type": "code",
   "execution_count": 39,
   "metadata": {},
   "outputs": [
    {
     "data": {},
     "metadata": {},
     "output_type": "display_data"
    },
    {
     "data": {
      "image/png": "[encoded data removed]",
      "text/plain": [
       "plot without title"
      ]
     },
     "metadata": {},
     "output_type": "display_data"
    }
   ],
   "source": [
    "#Step 4\n",
    "\n",
    "ggplot(df, aes(x,y)) + geom_point(aes(colour = x)) + geom_smooth(method='lm',formula=y~x, col=\"red\")"
   ]
  },
  {
   "cell_type": "code",
   "execution_count": 40,
   "metadata": {},
   "outputs": [
    {
     "data": {
      "text/html": [
       "<strong>x:</strong> 1.95557822702162"
      ],
      "text/latex": [
       "\\textbf{x:} 1.95557822702162"
      ],
      "text/markdown": [
       "**x:** 1.95557822702162"
      ],
      "text/plain": [
       "       x \n",
       "1.955578 "
      ]
     },
     "metadata": {},
     "output_type": "display_data"
    },
    {
     "data": {
      "text/html": [
       "<strong>(Intercept):</strong> 0.0991882106940839"
      ],
      "text/latex": [
       "\\textbf{(Intercept):} 0.0991882106940839"
      ],
      "text/markdown": [
       "**(Intercept):** 0.0991882106940839"
      ],
      "text/plain": [
       "(Intercept) \n",
       " 0.09918821 "
      ]
     },
     "metadata": {},
     "output_type": "display_data"
    }
   ],
   "source": [
    "#Step 5\n",
    "\n",
    "coef1 <- coefficients(model1)[2]\n",
    "coef1\n",
    "\n",
    "coef0 <- coefficients(model1)[1]\n",
    "coef0\n",
    "# typeof(coef1)\n",
    "#They are not exactly equal"
   ]
  },
  {
   "cell_type": "code",
   "execution_count": 41,
   "metadata": {},
   "outputs": [],
   "source": [
    "#Step 6\n",
    "\n",
    "absdiff <- function(model_summary, true_coefficient_value) {\n",
    "  coef1 <- coefficients(model_summary)[2]\n",
    "  coef1 <- as.vector(coef1)\n",
    "  abs(coef1 - true_coefficient_value)\n",
    "}\n"
   ]
  },
  {
   "cell_type": "code",
   "execution_count": 42,
   "metadata": {},
   "outputs": [
    {
     "data": {
      "text/html": [
       "0.0444217729783836"
      ],
      "text/latex": [
       "0.0444217729783836"
      ],
      "text/markdown": [
       "0.0444217729783836"
      ],
      "text/plain": [
       "[1] 0.04442177"
      ]
     },
     "metadata": {},
     "output_type": "display_data"
    }
   ],
   "source": [
    "absdiff(model1,2)"
   ]
  },
  {
   "cell_type": "code",
   "execution_count": 43,
   "metadata": {},
   "outputs": [
    {
     "data": {
      "text/html": [
       "'\\nDefining a function that runs the whole regression so we don\\'t need to write each bit out\\nfor every different sample size\\n'"
      ],
      "text/latex": [
       "'\\textbackslash{}nDefining a function that runs the whole regression so we don\\textbackslash{}'t need to write each bit out\\textbackslash{}nfor every different sample size\\textbackslash{}n'"
      ],
      "text/markdown": [
       "'\\nDefining a function that runs the whole regression so we don\\'t need to write each bit out\\nfor every different sample size\\n'"
      ],
      "text/plain": [
       "[1] \"\\nDefining a function that runs the whole regression so we don't need to write each bit out\\nfor every different sample size\\n\""
      ]
     },
     "metadata": {},
     "output_type": "display_data"
    }
   ],
   "source": [
    "\"\n",
    "Defining a function that runs the whole regression so we don't need to write each bit out\n",
    "for every different sample size\n",
    "\"\n",
    "\n",
    "run_linear_regression <- function(sample_size) {\n",
    "  x_sample <- runif(sample_size)\n",
    "  errors <- rnorm(sample_size)\n",
    "  df <- create_regression_dataframe(x_sample, errors)\n",
    "  model <- lm(y ~ x, data = df)\n",
    "  summary(model)\n",
    "}"
   ]
  },
  {
   "cell_type": "code",
   "execution_count": 44,
   "metadata": {},
   "outputs": [],
   "source": [
    "model_1000 <- run_linear_regression(1000)"
   ]
  },
  {
   "cell_type": "code",
   "execution_count": 45,
   "metadata": {},
   "outputs": [
    {
     "data": {
      "text/plain": [
       "\n",
       "Call:\n",
       "lm(formula = y ~ x, data = df)\n",
       "\n",
       "Residuals:\n",
       "     Min       1Q   Median       3Q      Max \n",
       "-2.97530 -0.62044  0.00462  0.65619  2.94993 \n",
       "\n",
       "Coefficients:\n",
       "            Estimate Std. Error t value Pr(>|t|)    \n",
       "(Intercept) -0.08094    0.06070  -1.333    0.183    \n",
       "x            2.14166    0.10412  20.570   <2e-16 ***\n",
       "---\n",
       "Signif. codes:  0 ‘***’ 0.001 ‘**’ 0.01 ‘*’ 0.05 ‘.’ 0.1 ‘ ’ 1\n",
       "\n",
       "Residual standard error: 0.9639 on 998 degrees of freedom\n",
       "Multiple R-squared:  0.2977,\tAdjusted R-squared:  0.297 \n",
       "F-statistic: 423.1 on 1 and 998 DF,  p-value: < 2.2e-16\n"
      ]
     },
     "metadata": {},
     "output_type": "display_data"
    }
   ],
   "source": [
    "model_1000"
   ]
  },
  {
   "cell_type": "code",
   "execution_count": 46,
   "metadata": {},
   "outputs": [
    {
     "data": {
      "text/html": [
       "0.141655733513972"
      ],
      "text/latex": [
       "0.141655733513972"
      ],
      "text/markdown": [
       "0.141655733513972"
      ],
      "text/plain": [
       "[1] 0.1416557"
      ]
     },
     "metadata": {},
     "output_type": "display_data"
    }
   ],
   "source": [
    "absdiff(model_1000,2)"
   ]
  },
  {
   "cell_type": "code",
   "execution_count": 47,
   "metadata": {},
   "outputs": [],
   "source": [
    "model_5000 <- run_linear_regression(5000)"
   ]
  },
  {
   "cell_type": "code",
   "execution_count": 48,
   "metadata": {
    "scrolled": true
   },
   "outputs": [
    {
     "data": {
      "text/html": [
       "0.0381255867830901"
      ],
      "text/latex": [
       "0.0381255867830901"
      ],
      "text/markdown": [
       "0.0381255867830901"
      ],
      "text/plain": [
       "[1] 0.03812559"
      ]
     },
     "metadata": {},
     "output_type": "display_data"
    }
   ],
   "source": [
    "absdiff(model_5000,2)"
   ]
  },
  {
   "cell_type": "code",
   "execution_count": 49,
   "metadata": {},
   "outputs": [],
   "source": [
    "model_10000 <- run_linear_regression(10000)"
   ]
  },
  {
   "cell_type": "code",
   "execution_count": 50,
   "metadata": {},
   "outputs": [
    {
     "data": {
      "text/html": [
       "0.0179000746576323"
      ],
      "text/latex": [
       "0.0179000746576323"
      ],
      "text/markdown": [
       "0.0179000746576323"
      ],
      "text/plain": [
       "[1] 0.01790007"
      ]
     },
     "metadata": {},
     "output_type": "display_data"
    }
   ],
   "source": [
    "absdiff(model_10000,2)"
   ]
  },
  {
   "cell_type": "code",
   "execution_count": 52,
   "metadata": {},
   "outputs": [
    {
     "data": {
      "text/html": [
       "0.00328504061231971"
      ],
      "text/latex": [
       "0.00328504061231971"
      ],
      "text/markdown": [
       "0.00328504061231971"
      ],
      "text/plain": [
       "[1] 0.003285041"
      ]
     },
     "metadata": {},
     "output_type": "display_data"
    }
   ],
   "source": [
    "model_1000000 <- run_linear_regression(1000000)\n",
    "absdiff(model_1000000,2)"
   ]
  },
  {
   "cell_type": "code",
   "execution_count": null,
   "metadata": {},
   "outputs": [],
   "source": []
  },
  {
   "cell_type": "code",
   "execution_count": null,
   "metadata": {},
   "outputs": [],
   "source": []
  },
  {
   "cell_type": "code",
   "execution_count": null,
   "metadata": {},
   "outputs": [],
   "source": []
  }
 ],
 "metadata": {
  "kernelspec": {
   "display_name": "R",
   "language": "R",
   "name": "ir"
  },
  "language_info": {
   "codemirror_mode": "r",
   "file_extension": ".r",
   "mimetype": "text/x-r-source",
   "name": "R",
   "pygments_lexer": "r",
   "version": "3.5.0"
  }
 },
 "nbformat": 4,
 "nbformat_minor": 2
}
