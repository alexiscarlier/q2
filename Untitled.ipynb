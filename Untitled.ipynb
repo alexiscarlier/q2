{
 "cells": [
  {
   "cell_type": "code",
   "execution_count": 1,
   "metadata": {},
   "outputs": [],
   "source": [
    "load.libraries <- c('tidyverse')"
   ]
  },
  {
   "cell_type": "code",
   "execution_count": 2,
   "metadata": {},
   "outputs": [],
   "source": [
    "install.lib <- load.libraries[!load.libraries %in% installed.packages()]"
   ]
  },
  {
   "cell_type": "code",
   "execution_count": 3,
   "metadata": {},
   "outputs": [],
   "source": [
    "for(libs in install.lib) install.packages(libs, dependencies = TRUE)"
   ]
  },
  {
   "cell_type": "code",
   "execution_count": 4,
   "metadata": {},
   "outputs": [
    {
     "name": "stderr",
     "output_type": "stream",
     "text": [
      "Loading required package: tidyverse\n",
      "── Attaching packages ─────────────────────────────────────── tidyverse 1.2.1 ──\n",
      "✔ ggplot2 3.0.0     ✔ purrr   0.2.5\n",
      "✔ tibble  1.4.2     ✔ dplyr   0.7.7\n",
      "✔ tidyr   0.8.1     ✔ stringr 1.3.1\n",
      "✔ readr   1.1.1     ✔ forcats 0.3.0\n",
      "── Conflicts ────────────────────────────────────────── tidyverse_conflicts() ──\n",
      "✖ dplyr::filter() masks stats::filter()\n",
      "✖ dplyr::lag()    masks stats::lag()\n"
     ]
    },
    {
     "data": {
      "text/html": [
       "<strong>tidyverse:</strong> TRUE"
      ],
      "text/latex": [
       "\\textbf{tidyverse:} TRUE"
      ],
      "text/markdown": [
       "**tidyverse:** TRUE"
      ],
      "text/plain": [
       "tidyverse \n",
       "     TRUE "
      ]
     },
     "metadata": {},
     "output_type": "display_data"
    }
   ],
   "source": [
    "sapply(load.libraries, require, character = TRUE)"
   ]
  },
  {
   "cell_type": "code",
   "execution_count": 5,
   "metadata": {},
   "outputs": [],
   "source": [
    "train <- read.csv(file = \"train.csv\", head = TRUE, sep=\",\")"
   ]
  },
  {
   "cell_type": "code",
   "execution_count": 12,
   "metadata": {},
   "outputs": [
    {
     "data": {
      "text/html": [
       "<table>\n",
       "<thead><tr><th scope=col>Id</th><th scope=col>MSSubClass</th><th scope=col>MSZoning</th><th scope=col>LotFrontage</th><th scope=col>LotArea</th><th scope=col>Street</th><th scope=col>Alley</th><th scope=col>LotShape</th><th scope=col>LandContour</th><th scope=col>Utilities</th><th scope=col>⋯</th><th scope=col>PoolArea</th><th scope=col>PoolQC</th><th scope=col>Fence</th><th scope=col>MiscFeature</th><th scope=col>MiscVal</th><th scope=col>MoSold</th><th scope=col>YrSold</th><th scope=col>SaleType</th><th scope=col>SaleCondition</th><th scope=col>SalePrice</th></tr></thead>\n",
       "<tbody>\n",
       "\t<tr><td>1      </td><td>60     </td><td>RL     </td><td>65     </td><td> 8450  </td><td>Pave   </td><td>NA     </td><td>Reg    </td><td>Lvl    </td><td>AllPub </td><td>⋯      </td><td>0      </td><td>NA     </td><td>NA     </td><td>NA     </td><td>  0    </td><td> 2     </td><td>2008   </td><td>WD     </td><td>Normal </td><td>208500 </td></tr>\n",
       "\t<tr><td>2      </td><td>20     </td><td>RL     </td><td>80     </td><td> 9600  </td><td>Pave   </td><td>NA     </td><td>Reg    </td><td>Lvl    </td><td>AllPub </td><td>⋯      </td><td>0      </td><td>NA     </td><td>NA     </td><td>NA     </td><td>  0    </td><td> 5     </td><td>2007   </td><td>WD     </td><td>Normal </td><td>181500 </td></tr>\n",
       "\t<tr><td>3      </td><td>60     </td><td>RL     </td><td>68     </td><td>11250  </td><td>Pave   </td><td>NA     </td><td>IR1    </td><td>Lvl    </td><td>AllPub </td><td>⋯      </td><td>0      </td><td>NA     </td><td>NA     </td><td>NA     </td><td>  0    </td><td> 9     </td><td>2008   </td><td>WD     </td><td>Normal </td><td>223500 </td></tr>\n",
       "\t<tr><td>4      </td><td>70     </td><td>RL     </td><td>60     </td><td> 9550  </td><td>Pave   </td><td>NA     </td><td>IR1    </td><td>Lvl    </td><td>AllPub </td><td>⋯      </td><td>0      </td><td>NA     </td><td>NA     </td><td>NA     </td><td>  0    </td><td> 2     </td><td>2006   </td><td>WD     </td><td>Abnorml</td><td>140000 </td></tr>\n",
       "\t<tr><td>5      </td><td>60     </td><td>RL     </td><td>84     </td><td>14260  </td><td>Pave   </td><td>NA     </td><td>IR1    </td><td>Lvl    </td><td>AllPub </td><td>⋯      </td><td>0      </td><td>NA     </td><td>NA     </td><td>NA     </td><td>  0    </td><td>12     </td><td>2008   </td><td>WD     </td><td>Normal </td><td>250000 </td></tr>\n",
       "\t<tr><td>6      </td><td>50     </td><td>RL     </td><td>85     </td><td>14115  </td><td>Pave   </td><td>NA     </td><td>IR1    </td><td>Lvl    </td><td>AllPub </td><td>⋯      </td><td>0      </td><td>NA     </td><td>MnPrv  </td><td>Shed   </td><td>700    </td><td>10     </td><td>2009   </td><td>WD     </td><td>Normal </td><td>143000 </td></tr>\n",
       "</tbody>\n",
       "</table>\n"
      ],
      "text/latex": [
       "\\begin{tabular}{r|lllllllllllllllllllllllllllllllllllllllllllllllllllllllllllllllllllllllllllllllll}\n",
       " Id & MSSubClass & MSZoning & LotFrontage & LotArea & Street & Alley & LotShape & LandContour & Utilities & ⋯ & PoolArea & PoolQC & Fence & MiscFeature & MiscVal & MoSold & YrSold & SaleType & SaleCondition & SalePrice\\\\\n",
       "\\hline\n",
       "\t 1       & 60      & RL      & 65      &  8450   & Pave    & NA      & Reg     & Lvl     & AllPub  & ⋯       & 0       & NA      & NA      & NA      &   0     &  2      & 2008    & WD      & Normal  & 208500 \\\\\n",
       "\t 2       & 20      & RL      & 80      &  9600   & Pave    & NA      & Reg     & Lvl     & AllPub  & ⋯       & 0       & NA      & NA      & NA      &   0     &  5      & 2007    & WD      & Normal  & 181500 \\\\\n",
       "\t 3       & 60      & RL      & 68      & 11250   & Pave    & NA      & IR1     & Lvl     & AllPub  & ⋯       & 0       & NA      & NA      & NA      &   0     &  9      & 2008    & WD      & Normal  & 223500 \\\\\n",
       "\t 4       & 70      & RL      & 60      &  9550   & Pave    & NA      & IR1     & Lvl     & AllPub  & ⋯       & 0       & NA      & NA      & NA      &   0     &  2      & 2006    & WD      & Abnorml & 140000 \\\\\n",
       "\t 5       & 60      & RL      & 84      & 14260   & Pave    & NA      & IR1     & Lvl     & AllPub  & ⋯       & 0       & NA      & NA      & NA      &   0     & 12      & 2008    & WD      & Normal  & 250000 \\\\\n",
       "\t 6       & 50      & RL      & 85      & 14115   & Pave    & NA      & IR1     & Lvl     & AllPub  & ⋯       & 0       & NA      & MnPrv   & Shed    & 700     & 10      & 2009    & WD      & Normal  & 143000 \\\\\n",
       "\\end{tabular}\n"
      ],
      "text/markdown": [
       "\n",
       "Id | MSSubClass | MSZoning | LotFrontage | LotArea | Street | Alley | LotShape | LandContour | Utilities | ⋯ | PoolArea | PoolQC | Fence | MiscFeature | MiscVal | MoSold | YrSold | SaleType | SaleCondition | SalePrice | \n",
       "|---|---|---|---|---|---|\n",
       "| 1       | 60      | RL      | 65      |  8450   | Pave    | NA      | Reg     | Lvl     | AllPub  | ⋯       | 0       | NA      | NA      | NA      |   0     |  2      | 2008    | WD      | Normal  | 208500  | \n",
       "| 2       | 20      | RL      | 80      |  9600   | Pave    | NA      | Reg     | Lvl     | AllPub  | ⋯       | 0       | NA      | NA      | NA      |   0     |  5      | 2007    | WD      | Normal  | 181500  | \n",
       "| 3       | 60      | RL      | 68      | 11250   | Pave    | NA      | IR1     | Lvl     | AllPub  | ⋯       | 0       | NA      | NA      | NA      |   0     |  9      | 2008    | WD      | Normal  | 223500  | \n",
       "| 4       | 70      | RL      | 60      |  9550   | Pave    | NA      | IR1     | Lvl     | AllPub  | ⋯       | 0       | NA      | NA      | NA      |   0     |  2      | 2006    | WD      | Abnorml | 140000  | \n",
       "| 5       | 60      | RL      | 84      | 14260   | Pave    | NA      | IR1     | Lvl     | AllPub  | ⋯       | 0       | NA      | NA      | NA      |   0     | 12      | 2008    | WD      | Normal  | 250000  | \n",
       "| 6       | 50      | RL      | 85      | 14115   | Pave    | NA      | IR1     | Lvl     | AllPub  | ⋯       | 0       | NA      | MnPrv   | Shed    | 700     | 10      | 2009    | WD      | Normal  | 143000  | \n",
       "\n",
       "\n"
      ],
      "text/plain": [
       "  Id MSSubClass MSZoning LotFrontage LotArea Street Alley LotShape LandContour\n",
       "1 1  60         RL       65           8450   Pave   NA    Reg      Lvl        \n",
       "2 2  20         RL       80           9600   Pave   NA    Reg      Lvl        \n",
       "3 3  60         RL       68          11250   Pave   NA    IR1      Lvl        \n",
       "4 4  70         RL       60           9550   Pave   NA    IR1      Lvl        \n",
       "5 5  60         RL       84          14260   Pave   NA    IR1      Lvl        \n",
       "6 6  50         RL       85          14115   Pave   NA    IR1      Lvl        \n",
       "  Utilities ⋯ PoolArea PoolQC Fence MiscFeature MiscVal MoSold YrSold SaleType\n",
       "1 AllPub    ⋯ 0        NA     NA    NA            0      2     2008   WD      \n",
       "2 AllPub    ⋯ 0        NA     NA    NA            0      5     2007   WD      \n",
       "3 AllPub    ⋯ 0        NA     NA    NA            0      9     2008   WD      \n",
       "4 AllPub    ⋯ 0        NA     NA    NA            0      2     2006   WD      \n",
       "5 AllPub    ⋯ 0        NA     NA    NA            0     12     2008   WD      \n",
       "6 AllPub    ⋯ 0        NA     MnPrv Shed        700     10     2009   WD      \n",
       "  SaleCondition SalePrice\n",
       "1 Normal        208500   \n",
       "2 Normal        181500   \n",
       "3 Normal        223500   \n",
       "4 Abnorml       140000   \n",
       "5 Normal        250000   \n",
       "6 Normal        143000   "
      ]
     },
     "metadata": {},
     "output_type": "display_data"
    }
   ],
   "source": [
    "head(train)"
   ]
  },
  {
   "cell_type": "code",
   "execution_count": 11,
   "metadata": {},
   "outputs": [
    {
     "data": {
      "text/html": [
       "81"
      ],
      "text/latex": [
       "81"
      ],
      "text/markdown": [
       "81"
      ],
      "text/plain": [
       "[1] 81"
      ]
     },
     "metadata": {},
     "output_type": "display_data"
    }
   ],
   "source": [
    "ncol(train)"
   ]
  },
  {
   "cell_type": "code",
   "execution_count": 13,
   "metadata": {},
   "outputs": [],
   "source": [
    "nicetable <- dplyr::select_if(train, is.numeric)"
   ]
  },
  {
   "cell_type": "code",
   "execution_count": null,
   "metadata": {},
   "outputs": [],
   "source": [
    "# 38 columns last year"
   ]
  },
  {
   "cell_type": "code",
   "execution_count": 16,
   "metadata": {},
   "outputs": [
    {
     "data": {
      "text/html": [
       "<ol class=list-inline>\n",
       "\t<li>'Id'</li>\n",
       "\t<li>'MSSubClass'</li>\n",
       "\t<li>'LotFrontage'</li>\n",
       "\t<li>'LotArea'</li>\n",
       "\t<li>'OverallQual'</li>\n",
       "\t<li>'OverallCond'</li>\n",
       "\t<li>'YearBuilt'</li>\n",
       "\t<li>'YearRemodAdd'</li>\n",
       "\t<li>'MasVnrArea'</li>\n",
       "\t<li>'BsmtFinSF1'</li>\n",
       "\t<li>'BsmtFinSF2'</li>\n",
       "\t<li>'BsmtUnfSF'</li>\n",
       "\t<li>'TotalBsmtSF'</li>\n",
       "\t<li>'X1stFlrSF'</li>\n",
       "\t<li>'X2ndFlrSF'</li>\n",
       "\t<li>'LowQualFinSF'</li>\n",
       "\t<li>'GrLivArea'</li>\n",
       "\t<li>'BsmtFullBath'</li>\n",
       "\t<li>'BsmtHalfBath'</li>\n",
       "\t<li>'FullBath'</li>\n",
       "\t<li>'HalfBath'</li>\n",
       "\t<li>'BedroomAbvGr'</li>\n",
       "\t<li>'KitchenAbvGr'</li>\n",
       "\t<li>'TotRmsAbvGrd'</li>\n",
       "\t<li>'Fireplaces'</li>\n",
       "\t<li>'GarageYrBlt'</li>\n",
       "\t<li>'GarageCars'</li>\n",
       "\t<li>'GarageArea'</li>\n",
       "\t<li>'WoodDeckSF'</li>\n",
       "\t<li>'OpenPorchSF'</li>\n",
       "\t<li>'EnclosedPorch'</li>\n",
       "\t<li>'X3SsnPorch'</li>\n",
       "\t<li>'ScreenPorch'</li>\n",
       "\t<li>'PoolArea'</li>\n",
       "\t<li>'MiscVal'</li>\n",
       "\t<li>'MoSold'</li>\n",
       "\t<li>'YrSold'</li>\n",
       "\t<li>'SalePrice'</li>\n",
       "</ol>\n"
      ],
      "text/latex": [
       "\\begin{enumerate*}\n",
       "\\item 'Id'\n",
       "\\item 'MSSubClass'\n",
       "\\item 'LotFrontage'\n",
       "\\item 'LotArea'\n",
       "\\item 'OverallQual'\n",
       "\\item 'OverallCond'\n",
       "\\item 'YearBuilt'\n",
       "\\item 'YearRemodAdd'\n",
       "\\item 'MasVnrArea'\n",
       "\\item 'BsmtFinSF1'\n",
       "\\item 'BsmtFinSF2'\n",
       "\\item 'BsmtUnfSF'\n",
       "\\item 'TotalBsmtSF'\n",
       "\\item 'X1stFlrSF'\n",
       "\\item 'X2ndFlrSF'\n",
       "\\item 'LowQualFinSF'\n",
       "\\item 'GrLivArea'\n",
       "\\item 'BsmtFullBath'\n",
       "\\item 'BsmtHalfBath'\n",
       "\\item 'FullBath'\n",
       "\\item 'HalfBath'\n",
       "\\item 'BedroomAbvGr'\n",
       "\\item 'KitchenAbvGr'\n",
       "\\item 'TotRmsAbvGrd'\n",
       "\\item 'Fireplaces'\n",
       "\\item 'GarageYrBlt'\n",
       "\\item 'GarageCars'\n",
       "\\item 'GarageArea'\n",
       "\\item 'WoodDeckSF'\n",
       "\\item 'OpenPorchSF'\n",
       "\\item 'EnclosedPorch'\n",
       "\\item 'X3SsnPorch'\n",
       "\\item 'ScreenPorch'\n",
       "\\item 'PoolArea'\n",
       "\\item 'MiscVal'\n",
       "\\item 'MoSold'\n",
       "\\item 'YrSold'\n",
       "\\item 'SalePrice'\n",
       "\\end{enumerate*}\n"
      ],
      "text/markdown": [
       "1. 'Id'\n",
       "2. 'MSSubClass'\n",
       "3. 'LotFrontage'\n",
       "4. 'LotArea'\n",
       "5. 'OverallQual'\n",
       "6. 'OverallCond'\n",
       "7. 'YearBuilt'\n",
       "8. 'YearRemodAdd'\n",
       "9. 'MasVnrArea'\n",
       "10. 'BsmtFinSF1'\n",
       "11. 'BsmtFinSF2'\n",
       "12. 'BsmtUnfSF'\n",
       "13. 'TotalBsmtSF'\n",
       "14. 'X1stFlrSF'\n",
       "15. 'X2ndFlrSF'\n",
       "16. 'LowQualFinSF'\n",
       "17. 'GrLivArea'\n",
       "18. 'BsmtFullBath'\n",
       "19. 'BsmtHalfBath'\n",
       "20. 'FullBath'\n",
       "21. 'HalfBath'\n",
       "22. 'BedroomAbvGr'\n",
       "23. 'KitchenAbvGr'\n",
       "24. 'TotRmsAbvGrd'\n",
       "25. 'Fireplaces'\n",
       "26. 'GarageYrBlt'\n",
       "27. 'GarageCars'\n",
       "28. 'GarageArea'\n",
       "29. 'WoodDeckSF'\n",
       "30. 'OpenPorchSF'\n",
       "31. 'EnclosedPorch'\n",
       "32. 'X3SsnPorch'\n",
       "33. 'ScreenPorch'\n",
       "34. 'PoolArea'\n",
       "35. 'MiscVal'\n",
       "36. 'MoSold'\n",
       "37. 'YrSold'\n",
       "38. 'SalePrice'\n",
       "\n",
       "\n"
      ],
      "text/plain": [
       " [1] \"Id\"            \"MSSubClass\"    \"LotFrontage\"   \"LotArea\"      \n",
       " [5] \"OverallQual\"   \"OverallCond\"   \"YearBuilt\"     \"YearRemodAdd\" \n",
       " [9] \"MasVnrArea\"    \"BsmtFinSF1\"    \"BsmtFinSF2\"    \"BsmtUnfSF\"    \n",
       "[13] \"TotalBsmtSF\"   \"X1stFlrSF\"     \"X2ndFlrSF\"     \"LowQualFinSF\" \n",
       "[17] \"GrLivArea\"     \"BsmtFullBath\"  \"BsmtHalfBath\"  \"FullBath\"     \n",
       "[21] \"HalfBath\"      \"BedroomAbvGr\"  \"KitchenAbvGr\"  \"TotRmsAbvGrd\" \n",
       "[25] \"Fireplaces\"    \"GarageYrBlt\"   \"GarageCars\"    \"GarageArea\"   \n",
       "[29] \"WoodDeckSF\"    \"OpenPorchSF\"   \"EnclosedPorch\" \"X3SsnPorch\"   \n",
       "[33] \"ScreenPorch\"   \"PoolArea\"      \"MiscVal\"       \"MoSold\"       \n",
       "[37] \"YrSold\"        \"SalePrice\"    "
      ]
     },
     "metadata": {},
     "output_type": "display_data"
    }
   ],
   "source": [
    "colnames(nicetable)"
   ]
  },
  {
   "cell_type": "code",
   "execution_count": 15,
   "metadata": {},
   "outputs": [
    {
     "data": {
      "text/html": [
       "<table>\n",
       "<thead><tr><th scope=col>Id</th><th scope=col>MSSubClass</th><th scope=col>LotFrontage</th><th scope=col>LotArea</th><th scope=col>OverallQual</th><th scope=col>OverallCond</th><th scope=col>YearBuilt</th><th scope=col>YearRemodAdd</th><th scope=col>MasVnrArea</th><th scope=col>BsmtFinSF1</th><th scope=col>⋯</th><th scope=col>WoodDeckSF</th><th scope=col>OpenPorchSF</th><th scope=col>EnclosedPorch</th><th scope=col>X3SsnPorch</th><th scope=col>ScreenPorch</th><th scope=col>PoolArea</th><th scope=col>MiscVal</th><th scope=col>MoSold</th><th scope=col>YrSold</th><th scope=col>SalePrice</th></tr></thead>\n",
       "<tbody>\n",
       "\t<tr><td>1     </td><td>60    </td><td>65    </td><td> 8450 </td><td>7     </td><td>5     </td><td>2003  </td><td>2003  </td><td>196   </td><td>706   </td><td>⋯     </td><td>  0   </td><td>61    </td><td>  0   </td><td>  0   </td><td>0     </td><td>0     </td><td>  0   </td><td> 2    </td><td>2008  </td><td>208500</td></tr>\n",
       "\t<tr><td>2     </td><td>20    </td><td>80    </td><td> 9600 </td><td>6     </td><td>8     </td><td>1976  </td><td>1976  </td><td>  0   </td><td>978   </td><td>⋯     </td><td>298   </td><td> 0    </td><td>  0   </td><td>  0   </td><td>0     </td><td>0     </td><td>  0   </td><td> 5    </td><td>2007  </td><td>181500</td></tr>\n",
       "\t<tr><td>3     </td><td>60    </td><td>68    </td><td>11250 </td><td>7     </td><td>5     </td><td>2001  </td><td>2002  </td><td>162   </td><td>486   </td><td>⋯     </td><td>  0   </td><td>42    </td><td>  0   </td><td>  0   </td><td>0     </td><td>0     </td><td>  0   </td><td> 9    </td><td>2008  </td><td>223500</td></tr>\n",
       "\t<tr><td>4     </td><td>70    </td><td>60    </td><td> 9550 </td><td>7     </td><td>5     </td><td>1915  </td><td>1970  </td><td>  0   </td><td>216   </td><td>⋯     </td><td>  0   </td><td>35    </td><td>272   </td><td>  0   </td><td>0     </td><td>0     </td><td>  0   </td><td> 2    </td><td>2006  </td><td>140000</td></tr>\n",
       "\t<tr><td>5     </td><td>60    </td><td>84    </td><td>14260 </td><td>8     </td><td>5     </td><td>2000  </td><td>2000  </td><td>350   </td><td>655   </td><td>⋯     </td><td>192   </td><td>84    </td><td>  0   </td><td>  0   </td><td>0     </td><td>0     </td><td>  0   </td><td>12    </td><td>2008  </td><td>250000</td></tr>\n",
       "\t<tr><td>6     </td><td>50    </td><td>85    </td><td>14115 </td><td>5     </td><td>5     </td><td>1993  </td><td>1995  </td><td>  0   </td><td>732   </td><td>⋯     </td><td> 40   </td><td>30    </td><td>  0   </td><td>320   </td><td>0     </td><td>0     </td><td>700   </td><td>10    </td><td>2009  </td><td>143000</td></tr>\n",
       "</tbody>\n",
       "</table>\n"
      ],
      "text/latex": [
       "\\begin{tabular}{r|llllllllllllllllllllllllllllllllllllll}\n",
       " Id & MSSubClass & LotFrontage & LotArea & OverallQual & OverallCond & YearBuilt & YearRemodAdd & MasVnrArea & BsmtFinSF1 & ⋯ & WoodDeckSF & OpenPorchSF & EnclosedPorch & X3SsnPorch & ScreenPorch & PoolArea & MiscVal & MoSold & YrSold & SalePrice\\\\\n",
       "\\hline\n",
       "\t 1      & 60     & 65     &  8450  & 7      & 5      & 2003   & 2003   & 196    & 706    & ⋯      &   0    & 61     &   0    &   0    & 0      & 0      &   0    &  2     & 2008   & 208500\\\\\n",
       "\t 2      & 20     & 80     &  9600  & 6      & 8      & 1976   & 1976   &   0    & 978    & ⋯      & 298    &  0     &   0    &   0    & 0      & 0      &   0    &  5     & 2007   & 181500\\\\\n",
       "\t 3      & 60     & 68     & 11250  & 7      & 5      & 2001   & 2002   & 162    & 486    & ⋯      &   0    & 42     &   0    &   0    & 0      & 0      &   0    &  9     & 2008   & 223500\\\\\n",
       "\t 4      & 70     & 60     &  9550  & 7      & 5      & 1915   & 1970   &   0    & 216    & ⋯      &   0    & 35     & 272    &   0    & 0      & 0      &   0    &  2     & 2006   & 140000\\\\\n",
       "\t 5      & 60     & 84     & 14260  & 8      & 5      & 2000   & 2000   & 350    & 655    & ⋯      & 192    & 84     &   0    &   0    & 0      & 0      &   0    & 12     & 2008   & 250000\\\\\n",
       "\t 6      & 50     & 85     & 14115  & 5      & 5      & 1993   & 1995   &   0    & 732    & ⋯      &  40    & 30     &   0    & 320    & 0      & 0      & 700    & 10     & 2009   & 143000\\\\\n",
       "\\end{tabular}\n"
      ],
      "text/markdown": [
       "\n",
       "Id | MSSubClass | LotFrontage | LotArea | OverallQual | OverallCond | YearBuilt | YearRemodAdd | MasVnrArea | BsmtFinSF1 | ⋯ | WoodDeckSF | OpenPorchSF | EnclosedPorch | X3SsnPorch | ScreenPorch | PoolArea | MiscVal | MoSold | YrSold | SalePrice | \n",
       "|---|---|---|---|---|---|\n",
       "| 1      | 60     | 65     |  8450  | 7      | 5      | 2003   | 2003   | 196    | 706    | ⋯      |   0    | 61     |   0    |   0    | 0      | 0      |   0    |  2     | 2008   | 208500 | \n",
       "| 2      | 20     | 80     |  9600  | 6      | 8      | 1976   | 1976   |   0    | 978    | ⋯      | 298    |  0     |   0    |   0    | 0      | 0      |   0    |  5     | 2007   | 181500 | \n",
       "| 3      | 60     | 68     | 11250  | 7      | 5      | 2001   | 2002   | 162    | 486    | ⋯      |   0    | 42     |   0    |   0    | 0      | 0      |   0    |  9     | 2008   | 223500 | \n",
       "| 4      | 70     | 60     |  9550  | 7      | 5      | 1915   | 1970   |   0    | 216    | ⋯      |   0    | 35     | 272    |   0    | 0      | 0      |   0    |  2     | 2006   | 140000 | \n",
       "| 5      | 60     | 84     | 14260  | 8      | 5      | 2000   | 2000   | 350    | 655    | ⋯      | 192    | 84     |   0    |   0    | 0      | 0      |   0    | 12     | 2008   | 250000 | \n",
       "| 6      | 50     | 85     | 14115  | 5      | 5      | 1993   | 1995   |   0    | 732    | ⋯      |  40    | 30     |   0    | 320    | 0      | 0      | 700    | 10     | 2009   | 143000 | \n",
       "\n",
       "\n"
      ],
      "text/plain": [
       "  Id MSSubClass LotFrontage LotArea OverallQual OverallCond YearBuilt\n",
       "1 1  60         65           8450   7           5           2003     \n",
       "2 2  20         80           9600   6           8           1976     \n",
       "3 3  60         68          11250   7           5           2001     \n",
       "4 4  70         60           9550   7           5           1915     \n",
       "5 5  60         84          14260   8           5           2000     \n",
       "6 6  50         85          14115   5           5           1993     \n",
       "  YearRemodAdd MasVnrArea BsmtFinSF1 ⋯ WoodDeckSF OpenPorchSF EnclosedPorch\n",
       "1 2003         196        706        ⋯   0        61            0          \n",
       "2 1976           0        978        ⋯ 298         0            0          \n",
       "3 2002         162        486        ⋯   0        42            0          \n",
       "4 1970           0        216        ⋯   0        35          272          \n",
       "5 2000         350        655        ⋯ 192        84            0          \n",
       "6 1995           0        732        ⋯  40        30            0          \n",
       "  X3SsnPorch ScreenPorch PoolArea MiscVal MoSold YrSold SalePrice\n",
       "1   0        0           0          0      2     2008   208500   \n",
       "2   0        0           0          0      5     2007   181500   \n",
       "3   0        0           0          0      9     2008   223500   \n",
       "4   0        0           0          0      2     2006   140000   \n",
       "5   0        0           0          0     12     2008   250000   \n",
       "6 320        0           0        700     10     2009   143000   "
      ]
     },
     "metadata": {},
     "output_type": "display_data"
    }
   ],
   "source": [
    "head(nicetable)"
   ]
  },
  {
   "cell_type": "code",
   "execution_count": null,
   "metadata": {},
   "outputs": [],
   "source": []
  }
 ],
 "metadata": {
  "kernelspec": {
   "display_name": "R",
   "language": "R",
   "name": "ir"
  },
  "language_info": {
   "codemirror_mode": "r",
   "file_extension": ".r",
   "mimetype": "text/x-r-source",
   "name": "R",
   "pygments_lexer": "r",
   "version": "3.5.0"
  }
 },
 "nbformat": 4,
 "nbformat_minor": 2
}
